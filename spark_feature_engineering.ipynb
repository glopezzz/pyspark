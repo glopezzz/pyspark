{
 "cells": [
  {
   "cell_type": "markdown",
   "id": "056bacd8",
   "metadata": {},
   "source": [
    "## Feature Engineering with PySpark.\n",
    "This tutorial uses the output files generated in the EDA script\n",
    "\n",
    "The code is copied from the video: https://www.youtube.com/watch?v=TlXqsL4ysB0&t=178s"
   ]
  },
  {
   "cell_type": "code",
   "execution_count": 1,
   "id": "f4a55322",
   "metadata": {},
   "outputs": [],
   "source": [
    "from pyspark.sql import SparkSession, Window\n",
    "from pyspark.sql import functions as F\n",
    "from pyspark.ml.feature import StringIndexer, VectorAssembler\n",
    "from pyspark.ml import Pipeline\n",
    "from pyspark.ml.classification import RandomForestClassifier"
   ]
  },
  {
   "cell_type": "code",
   "execution_count": 2,
   "id": "36e38c41",
   "metadata": {},
   "outputs": [],
   "source": [
    "spark = (\n",
    "    SparkSession.builder.appName(\"iot\")\n",
    "    .master(\"local[*]\")\n",
    "    .config(\"spark.driver.host\", \"localhost\")\n",
    "    .config(\"spark.driver.bindAddress\", \"127.0.0.1\")\n",
    "    .config(\"spark.driver.memory\", \"4g\")\n",
    "    .getOrCreate()\n",
    ")\n",
    "spark.sparkContext.setLogLevel(\"ERROR\")"
   ]
  },
  {
   "cell_type": "code",
   "execution_count": 3,
   "id": "a0a867c3",
   "metadata": {},
   "outputs": [
    {
     "name": "stdout",
     "output_type": "stream",
     "text": [
      "+-------------------+------------------+---------------+-----------+--------------+---------+-----+-------+---------+----------+----------+----------+--------+---------+-------------+---------+-------------+---------+--------------------+-------------------+-------------------+-------------------+-------------------+------+-----------------------+------------------------+-------------------------+--------------------------+---------------------+----------------------+-----------------------+------------------------+--------------------------+---------------------------+---------------------------+----------+\n",
      "|                 ts|               uid|      source_ip|source_port|       dest_ip|dest_port|proto|service| duration|orig_bytes|resp_bytes|conn_state| history|orig_pkts|orig_ip_bytes|resp_pkts|resp_ip_bytes|    label|      detailed-label|                 dt|               hour|             minute|             second|is_bad|source_ip_count_last_5m|source_ip_count_last_30m|source_port_count_last_5m|source_port_count_last_30m|dest_ip_count_last_5m|dest_ip_count_last_30m|dest_port_count_last_5m|dest_port_count_last_30m|source_ip_avg_pkts_last_5m|source_ip_avg_pkts_last_30m|source_ip_avg_bytes_last_5m|       day|\n",
      "+-------------------+------------------+---------------+-----------+--------------+---------+-----+-------+---------+----------+----------+----------+--------+---------+-------------+---------+-------------+---------+--------------------+-------------------+-------------------+-------------------+-------------------+------+-----------------------+------------------------+-------------------------+--------------------------+---------------------+----------------------+-----------------------+------------------------+--------------------------+---------------------------+---------------------------+----------+\n",
      "|1.525903200003219E9| C7SfmpAtyZiRUC7Ml|192.168.100.103|    40880.0|221.235.207.85|     23.0|  tcp|missing|33.628467|      74.0|     283.0|      RSTR|ShAdDaFr|     28.0|       1214.0|     34.0|       1647.0|Malicious|PartOfAHorizontal...|2018-05-10 00:00:00|2018-05-10 00:00:00|2018-05-10 00:00:00|2018-05-10 00:00:00|     1|                    743|                    4511|                        0|                         0|                    9|                    54|                    202|                    1284|        1.7711978465679676|          90.93726446464198|          91.50740242261104|2018-05-10|\n",
      "|1.525903200002469E9|CDjdA134DqVHLkkd85|192.168.100.103|    34193.0| 25.54.178.202|     23.0|  tcp|missing| 2.999133|       0.0|       0.0|        S0|       S|      3.0|        180.0|      0.0|          0.0|Malicious|PartOfAHorizontal...|2018-05-10 00:00:00|2018-05-10 00:00:00|2018-05-10 00:00:00|2018-05-10 00:00:00|     1|                    743|                    4511|                        0|                         0|                    0|                     0|                    202|                    1284|        1.7711978465679676|          90.93726446464198|          91.50740242261104|2018-05-10|\n",
      "|1.525903201011647E9| C8Tuy6hBsv4boDge9|192.168.100.103|    36937.0| 78.247.52.162|     23.0|  tcp|missing|-999999.0| -999999.0| -999999.0|        S0|       S|      1.0|         60.0|      0.0|          0.0|Malicious|PartOfAHorizontal...|2018-05-10 00:00:01|2018-05-10 00:00:00|2018-05-10 00:00:00|2018-05-10 00:00:01|     1|                    744|                    4513|                        1|                         1|                    1|                     1|                    203|                    1286|         1.771505376344086|          91.17925991579881|          91.56989247311827|2018-05-10|\n",
      "|1.525903201041627E9|CAfaqg1tVKuSVBQOj2|192.168.100.103|    43058.0|46.191.172.143|     23.0|  tcp|missing|-999999.0| -999999.0| -999999.0|        S0|       S|      1.0|         60.0|      0.0|          0.0|Malicious|PartOfAHorizontal...|2018-05-10 00:00:01|2018-05-10 00:00:00|2018-05-10 00:00:00|2018-05-10 00:00:01|     1|                    744|                    4513|                        2|                         2|                    2|                     2|                    203|                    1286|         1.771505376344086|          91.17925991579881|          91.56989247311827|2018-05-10|\n",
      "|1.525903206041543E9|CcXGKa4SDTvhZ2m1md|192.168.100.103|    34704.0| 74.151.225.53|     23.0|  tcp|missing|-999999.0| -999999.0| -999999.0|        S0|       S|      1.0|         60.0|      0.0|          0.0|Malicious|PartOfAHorizontal...|2018-05-10 00:00:06|2018-05-10 00:00:00|2018-05-10 00:00:00|2018-05-10 00:00:06|     1|                    741|                    4509|                        2|                         2|                    2|                     2|                    200|                    1286|        1.7665317139001349|          91.12707917498336|          91.21187584345479|2018-05-10|\n",
      "| 1.52590320600266E9|CzSAMX2XAbG15DiAgg|192.168.100.103|    36006.0| 221.170.131.6|     23.0|  tcp|missing| 2.998965|       0.0|       0.0|        S0|       S|      3.0|        180.0|      0.0|          0.0|Malicious|PartOfAHorizontal...|2018-05-10 00:00:06|2018-05-10 00:00:00|2018-05-10 00:00:00|2018-05-10 00:00:06|     1|                    741|                    4509|                        0|                         0|                    0|                     0|                    200|                    1286|        1.7665317139001349|          91.12707917498336|          91.21187584345479|2018-05-10|\n",
      "|1.525903207041725E9|Ctmk3Q2CHA0v756hL2|192.168.100.103|    47905.0| 68.173.88.167|     23.0|  tcp|missing|-999999.0| -999999.0| -999999.0|        S0|       S|      1.0|         60.0|      0.0|          0.0|Malicious|PartOfAHorizontal...|2018-05-10 00:00:07|2018-05-10 00:00:00|2018-05-10 00:00:00|2018-05-10 00:00:07|     1|                    740|                    4510|                        2|                         2|                    2|                     2|                    200|                    1287|        1.7702702702702702|          91.14678492239467|           91.3945945945946|2018-05-10|\n",
      "|1.525903207011794E9|CM6rDR1LhjulLonBe4|192.168.100.103|    34193.0| 25.54.178.202|     23.0|  tcp|missing|-999999.0| -999999.0| -999999.0|        S0|       S|      1.0|         60.0|      0.0|          0.0|Malicious|PartOfAHorizontal...|2018-05-10 00:00:07|2018-05-10 00:00:00|2018-05-10 00:00:00|2018-05-10 00:00:07|     1|                    740|                    4510|                        1|                         1|                    1|                     1|                    200|                    1287|        1.7702702702702702|          91.14678492239467|           91.3945945945946|2018-05-10|\n",
      "|1.525903209041589E9|CO5aM13rEZIAXIXDfa|192.168.100.103|    36937.0| 78.247.52.162|     23.0|  tcp|missing|-999999.0| -999999.0| -999999.0|        S0|       S|      1.0|         60.0|      0.0|          0.0|Malicious|PartOfAHorizontal...|2018-05-10 00:00:09|2018-05-10 00:00:00|2018-05-10 00:00:00|2018-05-10 00:00:09|     1|                    741|                    4510|                        2|                         2|                    2|                     2|                    200|                    1287|        1.7692307692307692|          90.91396895787139|          91.35222672064778|2018-05-10|\n",
      "|1.525903213011599E9|CTsdO32w2FbIWwYwUa|192.168.100.103|    36006.0| 221.170.131.6|     23.0|  tcp|missing|-999999.0| -999999.0| -999999.0|        S0|       S|      1.0|         60.0|      0.0|          0.0|Malicious|PartOfAHorizontal...|2018-05-10 00:00:13|2018-05-10 00:00:00|2018-05-10 00:00:00|2018-05-10 00:00:13|     1|                    740|                    4506|                        1|                         1|                    1|                     1|                    198|                    1287|        1.7702702702702702|          90.94496227252552|          91.41621621621621|2018-05-10|\n",
      "| 1.52590321500323E9|CTjgTo1KYzsvME97Ia|192.168.100.103|    32938.0|188.88.245.226|     23.0|  tcp|missing|  2.99854|       0.0|       0.0|        S0|       S|      3.0|        180.0|      0.0|          0.0|Malicious|PartOfAHorizontal...|2018-05-10 00:00:15|2018-05-10 00:00:00|2018-05-10 00:00:00|2018-05-10 00:00:15|     1|                    739|                    4506|                        0|                         0|                    0|                     0|                    197|                    1286|         1.774018944519621|          90.94496227252552|          91.62110960757781|2018-05-10|\n",
      "|1.525903215041698E9|CYfIks46iTwyfe0EQ3|192.168.100.103|    34193.0| 25.54.178.202|     23.0|  tcp|missing|-999999.0| -999999.0| -999999.0|        S0|       S|      1.0|         60.0|      0.0|          0.0|Malicious|PartOfAHorizontal...|2018-05-10 00:00:15|2018-05-10 00:00:00|2018-05-10 00:00:00|2018-05-10 00:00:15|     1|                    739|                    4506|                        2|                         2|                    2|                     2|                    197|                    1286|         1.774018944519621|          90.94496227252552|          91.62110960757781|2018-05-10|\n",
      "|1.525903218003253E9|CBtJU91Uiwz3erj5mi|192.168.100.103|    49949.0| 37.123.93.136|     23.0|  tcp|missing| 2.998563|       0.0|       0.0|        S0|       S|      3.0|        180.0|      0.0|          0.0|Malicious|PartOfAHorizontal...|2018-05-10 00:00:18|2018-05-10 00:00:00|2018-05-10 00:00:00|2018-05-10 00:00:18|     1|                    740|                    4505|                        0|                         3|                    0|                     0|                    197|                    1286|        1.7783783783783784|          90.97846836847947|           91.9027027027027|2018-05-10|\n",
      "|1.525903220002617E9| Cx52WmluBrfo4QsDb|192.168.100.103|    49979.0| 123.41.113.13|     23.0|  tcp|missing| 2.999064|       0.0|       0.0|        S0|       S|      3.0|        180.0|      0.0|          0.0|Malicious|PartOfAHorizontal...|2018-05-10 00:00:20|2018-05-10 00:00:00|2018-05-10 00:00:00|2018-05-10 00:00:20|     1|                    739|                    4505|                        0|                         0|                    0|                     0|                    197|                    1286|        1.7767253044654938|          90.97846836847947|          91.78349120433018|2018-05-10|\n",
      "|1.525903221003048E9|CeOaf83HBYzOARua2h|192.168.100.103|    44484.0| 47.243.53.120|     23.0|  tcp|missing| 2.998798|       0.0|       0.0|        S0|       S|      3.0|        180.0|      0.0|          0.0|Malicious|PartOfAHorizontal...|2018-05-10 00:00:21|2018-05-10 00:00:00|2018-05-10 00:00:00|2018-05-10 00:00:21|     1|                    738|                    4505|                        0|                         0|                    0|                     0|                    197|                    1287|        1.7777777777777777|          91.00510543840177|          91.82655826558266|2018-05-10|\n",
      "|1.525903221041793E9| CTi9mf6bL3dOU18Tk|192.168.100.103|    36006.0| 221.170.131.6|     23.0|  tcp|missing|-999999.0| -999999.0| -999999.0|        S0|       S|      1.0|         60.0|      0.0|          0.0|Malicious|PartOfAHorizontal...|2018-05-10 00:00:21|2018-05-10 00:00:00|2018-05-10 00:00:00|2018-05-10 00:00:21|     1|                    738|                    4505|                        2|                         2|                    2|                     2|                    197|                    1287|        1.7777777777777777|          91.00510543840177|          91.82655826558266|2018-05-10|\n",
      "|1.525903222011836E9|CXzOsL3fFGIasFcMqa|192.168.100.103|    32938.0|188.88.245.226|     23.0|  tcp|missing|-999999.0| -999999.0| -999999.0|        S0|       S|      1.0|         60.0|      0.0|          0.0|Malicious|PartOfAHorizontal...|2018-05-10 00:00:22|2018-05-10 00:00:00|2018-05-10 00:00:00|2018-05-10 00:00:22|     1|                    741|                    4507|                        1|                         1|                    1|                     1|                    199|                    1288|         1.777327935222672|           91.0179720434879|          91.85964912280701|2018-05-10|\n",
      "|1.525903223002911E9| CYMgR10iWg0G7o3A4|192.168.100.103|    55753.0|  161.85.187.4|     23.0|  tcp|missing| 2.998816|       0.0|       0.0|        S0|       S|      3.0|        180.0|      0.0|          0.0|Malicious|PartOfAHorizontal...|2018-05-10 00:00:23|2018-05-10 00:00:00|2018-05-10 00:00:00|2018-05-10 00:00:23|     1|                    742|                    4507|                        0|                         0|                    0|                     0|                    199|                    1287|         1.778975741239892|           91.0179720434879|          91.97843665768194|2018-05-10|\n",
      "|1.525903225011789E9|CDHYe43WOowPXfYVRb|192.168.100.103|    49949.0| 37.123.93.136|     23.0|  tcp|missing|-999999.0| -999999.0| -999999.0|        S0|       S|      1.0|         60.0|      0.0|          0.0|Malicious|PartOfAHorizontal...|2018-05-10 00:00:25|2018-05-10 00:00:00|2018-05-10 00:00:00|2018-05-10 00:00:25|     1|                    743|                    4510|                        1|                         4|                    1|                     1|                    200|                    1288|        1.7806191117092867|          91.04611973392461|          92.09690444145356|2018-05-10|\n",
      "|1.525903227011884E9| CF1uYV3tQ2Z6QTYh2|192.168.100.103|    49979.0| 123.41.113.13|     23.0|  tcp|missing|-999999.0| -999999.0| -999999.0|        S0|       S|      1.0|         60.0|      0.0|          0.0|Malicious|PartOfAHorizontal...|2018-05-10 00:00:27|2018-05-10 00:00:00|2018-05-10 00:00:00|2018-05-10 00:00:27|     1|                    741|                    4509|                        1|                         1|                    1|                     1|                    200|                    1288|        1.7827260458839407|          91.05300510090929|          92.18353576248313|2018-05-10|\n",
      "+-------------------+------------------+---------------+-----------+--------------+---------+-----+-------+---------+----------+----------+----------+--------+---------+-------------+---------+-------------+---------+--------------------+-------------------+-------------------+-------------------+-------------------+------+-----------------------+------------------------+-------------------------+--------------------------+---------------------+----------------------+-----------------------+------------------------+--------------------------+---------------------------+---------------------------+----------+\n",
      "only showing top 20 rows\n"
     ]
    }
   ],
   "source": [
    "output_dir = r\"C:\\Users\\gabyl\\spark_outputs\\preprocessing\"\n",
    "\n",
    "df = spark.read.parquet(output_dir)\n",
    "df.show()"
   ]
  },
  {
   "cell_type": "code",
   "execution_count": 4,
   "id": "49f61244",
   "metadata": {},
   "outputs": [
    {
     "name": "stdout",
     "output_type": "stream",
     "text": [
      "Total data size on disk: 77312669 bytes\n",
      "Total data size on disk: 0.07 GB\n",
      "Total number of rows: 1008748\n"
     ]
    }
   ],
   "source": [
    "def get_path_size_bytes(spark, path):\n",
    "    \"\"\"\n",
    "    Calculates the total size of a directory in bytes using Hadoop FileSystem API.\n",
    "\n",
    "    :param spark: The SparkSession object.\n",
    "    :param path: The path to the data (e.g., \"s3a://my-bucket/my-data/\" or \"/path/to/data\").\n",
    "    :return: Total size in bytes (long).\n",
    "    \"\"\"\n",
    "    sc = spark.sparkContext\n",
    "    # Get the Hadoop FileSystem object\n",
    "    fs = sc._jvm.org.apache.hadoop.fs.FileSystem.get(\n",
    "        sc._jvm.java.net.URI.create(path), \n",
    "        sc._jsc.hadoopConfiguration()\n",
    "    )\n",
    "    # Get the content summary of the path, which includes the total size\n",
    "    summary = fs.getContentSummary(sc._jvm.org.apache.hadoop.fs.Path(path))\n",
    "    return summary.getLength()\n",
    "\n",
    "total_size_bytes = get_path_size_bytes(spark, '/Users/gabyl/spark_outputs/preprocessing')\n",
    "\n",
    "# You can convert bytes to a more readable format\n",
    "total_size_gb = total_size_bytes / (1024**3)\n",
    "\n",
    "print(f\"Total data size on disk: {total_size_bytes} bytes\")\n",
    "print(f\"Total data size on disk: {total_size_gb:.2f} GB\")\n",
    "\n",
    "# Assuming 'df' is your DataFrame\n",
    "total_rows = df.count()\n",
    "\n",
    "print(f\"Total number of rows: {total_rows}\")"
   ]
  },
  {
   "cell_type": "code",
   "execution_count": 5,
   "id": "5f069569",
   "metadata": {},
   "outputs": [],
   "source": [
    "df = df.withColumn(\"is_bad\", F.when(F.col(\"label\") != \"Benign\", 1).otherwise(0))"
   ]
  },
  {
   "cell_type": "markdown",
   "id": "1c292577",
   "metadata": {},
   "source": [
    "## Feature Engineering\n",
    "Let's add some time-series features"
   ]
  },
  {
   "cell_type": "code",
   "execution_count": 6,
   "id": "91edb148",
   "metadata": {},
   "outputs": [
    {
     "name": "stdout",
     "output_type": "stream",
     "text": [
      "+-------------------+------------------+---------------+-----------+---------------+---------+-----+-------+---------+----------+----------+----------+-------+---------+-------------+---------+-------------+------+--------------+-------------------+-------------------+-------------------+-------------------+------+-----------------------+------------------------+-------------------------+--------------------------+---------------------+----------------------+-----------------------+------------------------+--------------------------+---------------------------+---------------------------+----------+----------------------+\n",
      "|                 ts|               uid|      source_ip|source_port|        dest_ip|dest_port|proto|service| duration|orig_bytes|resp_bytes|conn_state|history|orig_pkts|orig_ip_bytes|resp_pkts|resp_ip_bytes| label|detailed-label|                 dt|               hour|             minute|             second|is_bad|source_ip_count_last_5m|source_ip_count_last_30m|source_port_count_last_5m|source_port_count_last_30m|dest_ip_count_last_5m|dest_ip_count_last_30m|dest_port_count_last_5m|dest_port_count_last_30m|source_ip_avg_pkts_last_5m|source_ip_avg_pkts_last_30m|source_ip_avg_bytes_last_5m|       day|activity_count_last_5m|\n",
      "+-------------------+------------------+---------------+-----------+---------------+---------+-----+-------+---------+----------+----------+----------+-------+---------+-------------+---------+-------------+------+--------------+-------------------+-------------------+-------------------+-------------------+------+-----------------------+------------------------+-------------------------+--------------------------+---------------------+----------------------+-----------------------+------------------------+--------------------------+---------------------------+---------------------------+----------+----------------------+\n",
      "|1.525894550624578E9|  CGYRAQZQujyUGfEd|    1.213.14.66|       11.0|192.168.100.103|      0.0| icmp|missing|-999999.0| -999999.0| -999999.0|       OTH|missing|      1.0|         68.0|      0.0|          0.0|Benign|          NULL|2018-05-09 21:35:50|2018-05-09 21:00:00|2018-05-09 21:35:00|2018-05-09 21:35:50|     0|                      0|                       0|                        3|                        26|                   20|                   138|                      4|                      29|                      NULL|                       NULL|                       NULL|2018-05-09|                     0|\n",
      "|1.525899102278261E9|CZIT0D3wOswcPK7nTe|  100.89.121.18|        3.0|192.168.100.103|      1.0| icmp|missing|-999999.0| -999999.0| -999999.0|       OTH|missing|      1.0|         68.0|      0.0|          0.0|Benign|          NULL|2018-05-09 22:51:42|2018-05-09 22:00:00|2018-05-09 22:51:00|2018-05-09 22:51:42|     0|                      0|                       0|                       19|                        97|                   24|                   115|                      4|                      33|                      NULL|                       NULL|                       NULL|2018-05-09|                     0|\n",
      "|1.526088016534446E9|CJI3b64aCFqfynb6Xe|101.111.252.234|        3.0|192.168.100.103|      1.0| icmp|missing|-999999.0| -999999.0| -999999.0|       OTH|missing|      1.0|         56.0|      0.0|          0.0|Benign|          NULL|2018-05-12 03:20:16|2018-05-12 03:00:00|2018-05-12 03:20:00|2018-05-12 03:20:16|     0|                      0|                       0|                        9|                        90|                   15|                   120|                      1|                      20|                      NULL|                       NULL|                       NULL|2018-05-12|                     0|\n",
      "|1.526116964713856E9|CMw7Wa3GQbawaCZuLk| 101.170.74.247|        3.0|192.168.100.103|      3.0| icmp|missing|-999999.0| -999999.0| -999999.0|       OTH|missing|      1.0|         68.0|      0.0|          0.0|Benign|          NULL|2018-05-12 11:22:44|2018-05-12 11:00:00|2018-05-12 11:22:00|2018-05-12 11:22:44|     0|                      0|                       0|                       13|                        73|                   15|                    89|                      6|                      39|                      NULL|                       NULL|                       NULL|2018-05-12|                     0|\n",
      "|1.525988896342085E9|CPtUQJ1WBOJE2QgeMg|    101.30.20.8|        3.0|192.168.100.103|      3.0| icmp|missing|-999999.0| -999999.0| -999999.0|       OTH|missing|      1.0|         56.0|      0.0|          0.0|Benign|          NULL|2018-05-10 23:48:16|2018-05-10 23:00:00|2018-05-10 23:48:00|2018-05-10 23:48:16|     0|                      0|                       0|                       17|                       115|                   22|                   139|                     10|                      51|                      NULL|                       NULL|                       NULL|2018-05-10|                     0|\n",
      "|1.525980354351651E9|CgCnrd2QtZrgeh3uxb|  101.66.253.74|        3.0|192.168.100.103|      3.0| icmp|missing|-999999.0| -999999.0| -999999.0|       OTH|missing|      1.0|         68.0|      0.0|          0.0|Benign|          NULL|2018-05-10 21:25:54|2018-05-10 21:00:00|2018-05-10 21:25:00|2018-05-10 21:25:54|     0|                      0|                       0|                       23|                       107|                   24|                   130|                     13|                      58|                      NULL|                       NULL|                       NULL|2018-05-10|                     0|\n",
      "|1.525885730839075E9| C7EwerTvAop6wWip2| 102.136.14.204|        3.0|192.168.100.103|      3.0| icmp|missing|-999999.0| -999999.0| -999999.0|       OTH|missing|      1.0|         68.0|      0.0|          0.0|Benign|          NULL|2018-05-09 19:08:50|2018-05-09 19:00:00|2018-05-09 19:08:00|2018-05-09 19:08:50|     0|                      0|                       0|                       16|                        98|                   18|                   126|                      8|                      46|                      NULL|                       NULL|                       NULL|2018-05-09|                     0|\n",
      "|1.526017224222815E9|CtNig92AzAR1EFJHN3|  102.249.61.11|        3.0|192.168.100.103|      3.0| icmp|missing|-999999.0| -999999.0| -999999.0|       OTH|missing|      1.0|         68.0|      0.0|          0.0|Benign|          NULL|2018-05-11 07:40:24|2018-05-11 07:00:00|2018-05-11 07:40:00|2018-05-11 07:40:24|     0|                      0|                       0|                       14|                        93|                   19|                   108|                      9|                      50|                      NULL|                       NULL|                       NULL|2018-05-11|                     0|\n",
      "|1.525946542337153E9|CR3iwj1ReDAJ62nCX9|     103.5.0.78|        3.0|192.168.100.103|      1.0| icmp|missing|-999999.0| -999999.0| -999999.0|       OTH|missing|      1.0|         68.0|      0.0|          0.0|Benign|          NULL|2018-05-10 12:02:22|2018-05-10 12:00:00|2018-05-10 12:02:00|2018-05-10 12:02:22|     0|                      0|                       0|                        9|                        88|                   14|                   112|                      3|                      29|                      NULL|                       NULL|                       NULL|2018-05-10|                     0|\n",
      "|1.525905837129879E9|Ct6Aub1Soy61Pr2fTa|104.144.236.217|        3.0|192.168.100.103|      3.0| icmp|missing|-999999.0| -999999.0| -999999.0|       OTH|missing|      1.0|         68.0|      0.0|          0.0|Benign|          NULL|2018-05-10 00:43:57|2018-05-10 00:00:00|2018-05-10 00:43:00|2018-05-10 00:43:57|     0|                      0|                       0|                       18|                        98|                   21|                   120|                      9|                      48|                      NULL|                       NULL|                       NULL|2018-05-10|                     0|\n",
      "|1.526040730169761E9| CBi8Tt1iSzUpo4ccb| 104.164.52.125|        3.0|192.168.100.103|      3.0| icmp|missing|-999999.0| -999999.0| -999999.0|       OTH|missing|      1.0|         68.0|      0.0|          0.0|Benign|          NULL|2018-05-11 14:12:10|2018-05-11 14:00:00|2018-05-11 14:12:00|2018-05-11 14:12:10|     0|                      0|                       0|                       18|                       113|                   21|                   136|                      7|                      50|                      NULL|                       NULL|                       NULL|2018-05-11|                     0|\n",
      "|1.526107141158498E9| CJginnOOLZS8Ajzdl| 104.217.187.27|        3.0|192.168.100.103|      3.0| icmp|missing|-999999.0| -999999.0| -999999.0|       OTH|missing|      1.0|         68.0|      0.0|          0.0|Benign|          NULL|2018-05-12 08:39:01|2018-05-12 08:00:00|2018-05-12 08:39:00|2018-05-12 08:39:01|     0|                      0|                       0|                       21|                       105|                   26|                   130|                     13|                      59|                      NULL|                       NULL|                       NULL|2018-05-12|                     0|\n",
      "| 1.52588120818464E9|CnRrid21SXtROF2Yf6|104.246.172.254|       11.0|192.168.100.103|      0.0| icmp|missing|-999999.0| -999999.0| -999999.0|       OTH|missing|      1.0|         96.0|      0.0|          0.0|Benign|          NULL|2018-05-09 17:53:28|2018-05-09 17:00:00|2018-05-09 17:53:00|2018-05-09 17:53:28|     0|                      0|                       0|                        3|                        16|                   22|                    98|                      3|                      17|                      NULL|                       NULL|                       NULL|2018-05-09|                     0|\n",
      "| 1.52601199616491E9|CN3N6k355KkmKeIB17| 107.183.203.32|        3.0|192.168.100.103|      3.0| icmp|missing|-999999.0| -999999.0| -999999.0|       OTH|missing|      1.0|         68.0|      0.0|          0.0|Benign|          NULL|2018-05-11 06:13:16|2018-05-11 06:00:00|2018-05-11 06:13:00|2018-05-11 06:13:16|     0|                      0|                       0|                       12|                        96|                   17|                   124|                      4|                      45|                      NULL|                       NULL|                       NULL|2018-05-11|                     0|\n",
      "| 1.52595088861826E9|Cwo4DO35pVmIs7w1bj|  108.110.214.5|        3.0|192.168.100.103|      3.0| icmp|missing|-999999.0| -999999.0| -999999.0|       OTH|missing|      1.0|         68.0|      0.0|          0.0|Benign|          NULL|2018-05-10 13:14:48|2018-05-10 13:00:00|2018-05-10 13:14:00|2018-05-10 13:14:48|     0|                      0|                       0|                       19|                        88|                   21|                   113|                     10|                      54|                      NULL|                       NULL|                       NULL|2018-05-10|                     0|\n",
      "| 1.52595933105584E9|CBx73J1Qx7Q7U7x0Ol|108.113.215.247|    34729.0|192.168.100.103|  33782.0|  tcp|missing|-999999.0| -999999.0| -999999.0|    RSTOS0|      R|      1.0|         40.0|      0.0|          0.0|Benign|          NULL|2018-05-10 15:35:31|2018-05-10 15:00:00|2018-05-10 15:35:00|2018-05-10 15:35:31|     0|                      0|                       0|                        0|                         0|                   24|                   124|                      0|                       0|                      NULL|                       NULL|                       NULL|2018-05-10|                     0|\n",
      "| 1.52592691707636E9|CU4hbi32SC4ETiRjj7|   108.61.2.206|        3.0|192.168.100.103|      1.0| icmp|missing|-999999.0| -999999.0| -999999.0|       OTH|missing|      1.0|         56.0|      0.0|          0.0|Benign|          NULL|2018-05-10 06:35:17|2018-05-10 06:00:00|2018-05-10 06:35:00|2018-05-10 06:35:17|     0|                      0|                       0|                       22|                       113|                   26|                   130|                      6|                      27|                      NULL|                       NULL|                       NULL|2018-05-10|                     0|\n",
      "|1.525953859508242E9|C5KViQ2YWw2YpCEkJk| 108.61.244.138|        3.0|192.168.100.103|      1.0| icmp|missing|-999999.0| -999999.0| -999999.0|       OTH|missing|      1.0|         56.0|      0.0|          0.0|Benign|          NULL|2018-05-10 14:04:19|2018-05-10 14:00:00|2018-05-10 14:04:00|2018-05-10 14:04:19|     0|                      0|                       0|                       17|                       105|                   19|                   123|                      5|                      25|                      NULL|                       NULL|                       NULL|2018-05-10|                     0|\n",
      "|1.525913065033541E9| CN0lN3ZAUES8cz126|109.239.172.131|        3.0|192.168.100.103|      3.0| icmp|missing|-999999.0| -999999.0| -999999.0|       OTH|missing|      1.0|         68.0|      0.0|          0.0|Benign|          NULL|2018-05-10 02:44:25|2018-05-10 02:00:00|2018-05-10 02:44:00|2018-05-10 02:44:25|     0|                      0|                       0|                       16|                        86|                   24|                   106|                      7|                      46|                      NULL|                       NULL|                       NULL|2018-05-10|                     0|\n",
      "|1.526019835273636E9|Cj5EZm1zlAXfu1SQRd| 110.13.248.234|        3.0|192.168.100.103|      3.0| icmp|missing|-999999.0| -999999.0| -999999.0|       OTH|missing|      1.0|         68.0|      0.0|          0.0|Benign|          NULL|2018-05-11 08:23:55|2018-05-11 08:00:00|2018-05-11 08:23:00|2018-05-11 08:23:55|     0|                      0|                       0|                       14|                       101|                   16|                   126|                      7|                      52|                      NULL|                       NULL|                       NULL|2018-05-11|                     0|\n",
      "+-------------------+------------------+---------------+-----------+---------------+---------+-----+-------+---------+----------+----------+----------+-------+---------+-------------+---------+-------------+------+--------------+-------------------+-------------------+-------------------+-------------------+------+-----------------------+------------------------+-------------------------+--------------------------+---------------------+----------------------+-----------------------+------------------------+--------------------------+---------------------------+---------------------------+----------+----------------------+\n",
      "only showing top 20 rows\n"
     ]
    }
   ],
   "source": [
    "# Example of rolling feature generation\n",
    "df.withColumn(\n",
    "    \"activity_count_last_5m\",\n",
    "    F.count('source_ip').over(Window().partitionBy('source_ip').orderBy(F.col('dt').cast('long')).rangeBetween(-5*60,-1))\n",
    ").show()"
   ]
  },
  {
   "cell_type": "code",
   "execution_count": 7,
   "id": "cd2f8540",
   "metadata": {},
   "outputs": [],
   "source": [
    "# Lets create some custom functions\n",
    "def create_custom_window(\n",
    "    partition_by: str,\n",
    "    timestamp_col: str,\n",
    "    window_in_minutes: int,\n",
    "):\n",
    "    window = (\n",
    "        Window()\n",
    "        .partitionBy(partition_by)\n",
    "        .orderBy(F.col(timestamp_col).cast('long'))\n",
    "        .rangeBetween(-window_in_minutes*60, -1)\n",
    "    )\n",
    "    \n",
    "    return window\n",
    "\n",
    "def generate_rolling_aggregate(\n",
    "    col: str,\n",
    "    partition_by: str = None,\n",
    "    operation: str = \"count\",\n",
    "    timestamp_col: str = \"dt\",\n",
    "    window_in_minutes: int = 1,\n",
    "):\n",
    "    if partition_by is None:\n",
    "        partition_by = col\n",
    "    \n",
    "    if operation == \"count\":\n",
    "        return F.count(col).over(\n",
    "            create_custom_window(\n",
    "                partition_by=partition_by,\n",
    "                timestamp_col=timestamp_col,\n",
    "                window_in_minutes=window_in_minutes\n",
    "            )\n",
    "        )\n",
    "    elif operation == \"sum\":\n",
    "        return F.sum(col).over(\n",
    "            create_custom_window(\n",
    "                partition_by=partition_by,\n",
    "                timestamp_col=timestamp_col,\n",
    "                window_in_minutes=window_in_minutes\n",
    "            )\n",
    "        )\n",
    "    elif operation == \"avg\":\n",
    "        return F.avg(col).over(\n",
    "            create_custom_window(\n",
    "                partition_by=partition_by,\n",
    "                timestamp_col=timestamp_col,\n",
    "                window_in_minutes=window_in_minutes\n",
    "            )\n",
    "        )\n",
    "    else:\n",
    "        raise ValueError(f\"Operation '{operation}' is not defined.\")"
   ]
  },
  {
   "cell_type": "code",
   "execution_count": 8,
   "id": "3709a59a",
   "metadata": {},
   "outputs": [],
   "source": [
    "# Now we apply the custom feature engineering to create several new features.\n",
    "# This cell won't take any time because it doesn't really apply to the dataframe. It just defines the calculations to take place.\n",
    "# We'de need to apply a df.show() for example for it to really compute\n",
    "df = df.withColumns({\n",
    "    \"source_ip_count_last_5m\" : generate_rolling_aggregate(col='source_ip', partition_by='source_ip', operation='count', window_in_minutes=5),\n",
    "    \"source_ip_count_last_30m\" : generate_rolling_aggregate(col='source_ip', partition_by='source_ip', operation='count', window_in_minutes=30),\n",
    "    \"source_port_count_last_5m\" : generate_rolling_aggregate(col='source_port', partition_by='source_port', operation='count', window_in_minutes=5),\n",
    "    \"source_port_count_last_30m\" : generate_rolling_aggregate(col='source_port', partition_by='source_port', operation='count', window_in_minutes=30),\n",
    "    \"dest_ip_count_last_5m\" : generate_rolling_aggregate(col='dest_ip', partition_by='dest_ip', operation='count', window_in_minutes=5),\n",
    "    \"dest_ip_count_last_30m\" : generate_rolling_aggregate(col='dest_ip', partition_by='dest_ip', operation='count', window_in_minutes=30),\n",
    "    \"dest_port_count_last_5m\" : generate_rolling_aggregate(col='dest_port', partition_by='dest_port', operation='count', window_in_minutes=5),\n",
    "    \"dest_port_count_last_30m\" : generate_rolling_aggregate(col='dest_port', partition_by='dest_port', operation='count', window_in_minutes=30),\n",
    "    \"source_ip_avg_pkts_last_5m\": generate_rolling_aggregate(col='orig_pkts', partition_by='source_ip', operation='avg', window_in_minutes=5),\n",
    "    \"source_ip_avg_pkts_last_30m\": generate_rolling_aggregate(col='orig_pkts', partition_by='source_ip', operation='avg', window_in_minutes=30),\n",
    "    \"source_ip_avg_bytes_last_5m\": generate_rolling_aggregate(col='orig_ip_bytes', partition_by='source_ip', operation='avg', window_in_minutes=5),\n",
    "    \"source_ip_avg_pkts_last_30m\": generate_rolling_aggregate(col='orig_ip_bytes', partition_by='source_ip', operation='avg', window_in_minutes=30),\n",
    "})"
   ]
  },
  {
   "cell_type": "code",
   "execution_count": 9,
   "id": "7f3f64dd",
   "metadata": {},
   "outputs": [],
   "source": [
    "output_dir_fe = r\"C:\\Users\\gabyl\\spark_outputs\\feature_engineering\"\n",
    "\n",
    "df.write.mode('overwrite').partitionBy(\"day\").parquet(output_dir)"
   ]
  },
  {
   "cell_type": "code",
   "execution_count": 10,
   "id": "c7daca80",
   "metadata": {},
   "outputs": [
    {
     "name": "stdout",
     "output_type": "stream",
     "text": [
      "+-------------------+------------------+---------------+-----------+--------------+---------+-----+-------+---------+----------+----------+----------+--------+---------+-------------+---------+-------------+---------+--------------------+-------------------+-------------------+-------------------+-------------------+------+-----------------------+------------------------+-------------------------+--------------------------+---------------------+----------------------+-----------------------+------------------------+--------------------------+---------------------------+---------------------------+----------+\n",
      "|                 ts|               uid|      source_ip|source_port|       dest_ip|dest_port|proto|service| duration|orig_bytes|resp_bytes|conn_state| history|orig_pkts|orig_ip_bytes|resp_pkts|resp_ip_bytes|    label|      detailed-label|                 dt|               hour|             minute|             second|is_bad|source_ip_count_last_5m|source_ip_count_last_30m|source_port_count_last_5m|source_port_count_last_30m|dest_ip_count_last_5m|dest_ip_count_last_30m|dest_port_count_last_5m|dest_port_count_last_30m|source_ip_avg_pkts_last_5m|source_ip_avg_pkts_last_30m|source_ip_avg_bytes_last_5m|       day|\n",
      "+-------------------+------------------+---------------+-----------+--------------+---------+-----+-------+---------+----------+----------+----------+--------+---------+-------------+---------+-------------+---------+--------------------+-------------------+-------------------+-------------------+-------------------+------+-----------------------+------------------------+-------------------------+--------------------------+---------------------+----------------------+-----------------------+------------------------+--------------------------+---------------------------+---------------------------+----------+\n",
      "|1.525903200003219E9| C7SfmpAtyZiRUC7Ml|192.168.100.103|    40880.0|221.235.207.85|     23.0|  tcp|missing|33.628467|      74.0|     283.0|      RSTR|ShAdDaFr|     28.0|       1214.0|     34.0|       1647.0|Malicious|PartOfAHorizontal...|2018-05-10 00:00:00|2018-05-10 00:00:00|2018-05-10 00:00:00|2018-05-10 00:00:00|     1|                    743|                    4511|                        0|                         0|                    9|                    54|                    202|                    1284|        1.7711978465679676|          90.93726446464198|          91.50740242261104|2018-05-10|\n",
      "|1.525903200002469E9|CDjdA134DqVHLkkd85|192.168.100.103|    34193.0| 25.54.178.202|     23.0|  tcp|missing| 2.999133|       0.0|       0.0|        S0|       S|      3.0|        180.0|      0.0|          0.0|Malicious|PartOfAHorizontal...|2018-05-10 00:00:00|2018-05-10 00:00:00|2018-05-10 00:00:00|2018-05-10 00:00:00|     1|                    743|                    4511|                        0|                         0|                    0|                     0|                    202|                    1284|        1.7711978465679676|          90.93726446464198|          91.50740242261104|2018-05-10|\n",
      "|1.525903201011647E9| C8Tuy6hBsv4boDge9|192.168.100.103|    36937.0| 78.247.52.162|     23.0|  tcp|missing|-999999.0| -999999.0| -999999.0|        S0|       S|      1.0|         60.0|      0.0|          0.0|Malicious|PartOfAHorizontal...|2018-05-10 00:00:01|2018-05-10 00:00:00|2018-05-10 00:00:00|2018-05-10 00:00:01|     1|                    744|                    4513|                        1|                         1|                    1|                     1|                    203|                    1286|         1.771505376344086|          91.17925991579881|          91.56989247311827|2018-05-10|\n",
      "|1.525903201041627E9|CAfaqg1tVKuSVBQOj2|192.168.100.103|    43058.0|46.191.172.143|     23.0|  tcp|missing|-999999.0| -999999.0| -999999.0|        S0|       S|      1.0|         60.0|      0.0|          0.0|Malicious|PartOfAHorizontal...|2018-05-10 00:00:01|2018-05-10 00:00:00|2018-05-10 00:00:00|2018-05-10 00:00:01|     1|                    744|                    4513|                        2|                         2|                    2|                     2|                    203|                    1286|         1.771505376344086|          91.17925991579881|          91.56989247311827|2018-05-10|\n",
      "|1.525903206041543E9|CcXGKa4SDTvhZ2m1md|192.168.100.103|    34704.0| 74.151.225.53|     23.0|  tcp|missing|-999999.0| -999999.0| -999999.0|        S0|       S|      1.0|         60.0|      0.0|          0.0|Malicious|PartOfAHorizontal...|2018-05-10 00:00:06|2018-05-10 00:00:00|2018-05-10 00:00:00|2018-05-10 00:00:06|     1|                    741|                    4509|                        2|                         2|                    2|                     2|                    200|                    1286|        1.7665317139001349|          91.12707917498336|          91.21187584345479|2018-05-10|\n",
      "| 1.52590320600266E9|CzSAMX2XAbG15DiAgg|192.168.100.103|    36006.0| 221.170.131.6|     23.0|  tcp|missing| 2.998965|       0.0|       0.0|        S0|       S|      3.0|        180.0|      0.0|          0.0|Malicious|PartOfAHorizontal...|2018-05-10 00:00:06|2018-05-10 00:00:00|2018-05-10 00:00:00|2018-05-10 00:00:06|     1|                    741|                    4509|                        0|                         0|                    0|                     0|                    200|                    1286|        1.7665317139001349|          91.12707917498336|          91.21187584345479|2018-05-10|\n",
      "|1.525903207041725E9|Ctmk3Q2CHA0v756hL2|192.168.100.103|    47905.0| 68.173.88.167|     23.0|  tcp|missing|-999999.0| -999999.0| -999999.0|        S0|       S|      1.0|         60.0|      0.0|          0.0|Malicious|PartOfAHorizontal...|2018-05-10 00:00:07|2018-05-10 00:00:00|2018-05-10 00:00:00|2018-05-10 00:00:07|     1|                    740|                    4510|                        2|                         2|                    2|                     2|                    200|                    1287|        1.7702702702702702|          91.14678492239467|           91.3945945945946|2018-05-10|\n",
      "|1.525903207011794E9|CM6rDR1LhjulLonBe4|192.168.100.103|    34193.0| 25.54.178.202|     23.0|  tcp|missing|-999999.0| -999999.0| -999999.0|        S0|       S|      1.0|         60.0|      0.0|          0.0|Malicious|PartOfAHorizontal...|2018-05-10 00:00:07|2018-05-10 00:00:00|2018-05-10 00:00:00|2018-05-10 00:00:07|     1|                    740|                    4510|                        1|                         1|                    1|                     1|                    200|                    1287|        1.7702702702702702|          91.14678492239467|           91.3945945945946|2018-05-10|\n",
      "|1.525903209041589E9|CO5aM13rEZIAXIXDfa|192.168.100.103|    36937.0| 78.247.52.162|     23.0|  tcp|missing|-999999.0| -999999.0| -999999.0|        S0|       S|      1.0|         60.0|      0.0|          0.0|Malicious|PartOfAHorizontal...|2018-05-10 00:00:09|2018-05-10 00:00:00|2018-05-10 00:00:00|2018-05-10 00:00:09|     1|                    741|                    4510|                        2|                         2|                    2|                     2|                    200|                    1287|        1.7692307692307692|          90.91396895787139|          91.35222672064778|2018-05-10|\n",
      "|1.525903213011599E9|CTsdO32w2FbIWwYwUa|192.168.100.103|    36006.0| 221.170.131.6|     23.0|  tcp|missing|-999999.0| -999999.0| -999999.0|        S0|       S|      1.0|         60.0|      0.0|          0.0|Malicious|PartOfAHorizontal...|2018-05-10 00:00:13|2018-05-10 00:00:00|2018-05-10 00:00:00|2018-05-10 00:00:13|     1|                    740|                    4506|                        1|                         1|                    1|                     1|                    198|                    1287|        1.7702702702702702|          90.94496227252552|          91.41621621621621|2018-05-10|\n",
      "| 1.52590321500323E9|CTjgTo1KYzsvME97Ia|192.168.100.103|    32938.0|188.88.245.226|     23.0|  tcp|missing|  2.99854|       0.0|       0.0|        S0|       S|      3.0|        180.0|      0.0|          0.0|Malicious|PartOfAHorizontal...|2018-05-10 00:00:15|2018-05-10 00:00:00|2018-05-10 00:00:00|2018-05-10 00:00:15|     1|                    739|                    4506|                        0|                         0|                    0|                     0|                    197|                    1286|         1.774018944519621|          90.94496227252552|          91.62110960757781|2018-05-10|\n",
      "|1.525903215041698E9|CYfIks46iTwyfe0EQ3|192.168.100.103|    34193.0| 25.54.178.202|     23.0|  tcp|missing|-999999.0| -999999.0| -999999.0|        S0|       S|      1.0|         60.0|      0.0|          0.0|Malicious|PartOfAHorizontal...|2018-05-10 00:00:15|2018-05-10 00:00:00|2018-05-10 00:00:00|2018-05-10 00:00:15|     1|                    739|                    4506|                        2|                         2|                    2|                     2|                    197|                    1286|         1.774018944519621|          90.94496227252552|          91.62110960757781|2018-05-10|\n",
      "|1.525903218003253E9|CBtJU91Uiwz3erj5mi|192.168.100.103|    49949.0| 37.123.93.136|     23.0|  tcp|missing| 2.998563|       0.0|       0.0|        S0|       S|      3.0|        180.0|      0.0|          0.0|Malicious|PartOfAHorizontal...|2018-05-10 00:00:18|2018-05-10 00:00:00|2018-05-10 00:00:00|2018-05-10 00:00:18|     1|                    740|                    4505|                        0|                         3|                    0|                     0|                    197|                    1286|        1.7783783783783784|          90.97846836847947|           91.9027027027027|2018-05-10|\n",
      "|1.525903220002617E9| Cx52WmluBrfo4QsDb|192.168.100.103|    49979.0| 123.41.113.13|     23.0|  tcp|missing| 2.999064|       0.0|       0.0|        S0|       S|      3.0|        180.0|      0.0|          0.0|Malicious|PartOfAHorizontal...|2018-05-10 00:00:20|2018-05-10 00:00:00|2018-05-10 00:00:00|2018-05-10 00:00:20|     1|                    739|                    4505|                        0|                         0|                    0|                     0|                    197|                    1286|        1.7767253044654938|          90.97846836847947|          91.78349120433018|2018-05-10|\n",
      "|1.525903221003048E9|CeOaf83HBYzOARua2h|192.168.100.103|    44484.0| 47.243.53.120|     23.0|  tcp|missing| 2.998798|       0.0|       0.0|        S0|       S|      3.0|        180.0|      0.0|          0.0|Malicious|PartOfAHorizontal...|2018-05-10 00:00:21|2018-05-10 00:00:00|2018-05-10 00:00:00|2018-05-10 00:00:21|     1|                    738|                    4505|                        0|                         0|                    0|                     0|                    197|                    1287|        1.7777777777777777|          91.00510543840177|          91.82655826558266|2018-05-10|\n",
      "|1.525903221041793E9| CTi9mf6bL3dOU18Tk|192.168.100.103|    36006.0| 221.170.131.6|     23.0|  tcp|missing|-999999.0| -999999.0| -999999.0|        S0|       S|      1.0|         60.0|      0.0|          0.0|Malicious|PartOfAHorizontal...|2018-05-10 00:00:21|2018-05-10 00:00:00|2018-05-10 00:00:00|2018-05-10 00:00:21|     1|                    738|                    4505|                        2|                         2|                    2|                     2|                    197|                    1287|        1.7777777777777777|          91.00510543840177|          91.82655826558266|2018-05-10|\n",
      "|1.525903222011836E9|CXzOsL3fFGIasFcMqa|192.168.100.103|    32938.0|188.88.245.226|     23.0|  tcp|missing|-999999.0| -999999.0| -999999.0|        S0|       S|      1.0|         60.0|      0.0|          0.0|Malicious|PartOfAHorizontal...|2018-05-10 00:00:22|2018-05-10 00:00:00|2018-05-10 00:00:00|2018-05-10 00:00:22|     1|                    741|                    4507|                        1|                         1|                    1|                     1|                    199|                    1288|         1.777327935222672|           91.0179720434879|          91.85964912280701|2018-05-10|\n",
      "|1.525903223002911E9| CYMgR10iWg0G7o3A4|192.168.100.103|    55753.0|  161.85.187.4|     23.0|  tcp|missing| 2.998816|       0.0|       0.0|        S0|       S|      3.0|        180.0|      0.0|          0.0|Malicious|PartOfAHorizontal...|2018-05-10 00:00:23|2018-05-10 00:00:00|2018-05-10 00:00:00|2018-05-10 00:00:23|     1|                    742|                    4507|                        0|                         0|                    0|                     0|                    199|                    1287|         1.778975741239892|           91.0179720434879|          91.97843665768194|2018-05-10|\n",
      "|1.525903225011789E9|CDHYe43WOowPXfYVRb|192.168.100.103|    49949.0| 37.123.93.136|     23.0|  tcp|missing|-999999.0| -999999.0| -999999.0|        S0|       S|      1.0|         60.0|      0.0|          0.0|Malicious|PartOfAHorizontal...|2018-05-10 00:00:25|2018-05-10 00:00:00|2018-05-10 00:00:00|2018-05-10 00:00:25|     1|                    743|                    4510|                        1|                         4|                    1|                     1|                    200|                    1288|        1.7806191117092867|          91.04611973392461|          92.09690444145356|2018-05-10|\n",
      "|1.525903227011884E9| CF1uYV3tQ2Z6QTYh2|192.168.100.103|    49979.0| 123.41.113.13|     23.0|  tcp|missing|-999999.0| -999999.0| -999999.0|        S0|       S|      1.0|         60.0|      0.0|          0.0|Malicious|PartOfAHorizontal...|2018-05-10 00:00:27|2018-05-10 00:00:00|2018-05-10 00:00:00|2018-05-10 00:00:27|     1|                    741|                    4509|                        1|                         1|                    1|                     1|                    200|                    1288|        1.7827260458839407|          91.05300510090929|          92.18353576248313|2018-05-10|\n",
      "+-------------------+------------------+---------------+-----------+--------------+---------+-----+-------+---------+----------+----------+----------+--------+---------+-------------+---------+-------------+---------+--------------------+-------------------+-------------------+-------------------+-------------------+------+-----------------------+------------------------+-------------------------+--------------------------+---------------------+----------------------+-----------------------+------------------------+--------------------------+---------------------------+---------------------------+----------+\n",
      "only showing top 20 rows\n"
     ]
    }
   ],
   "source": [
    "df_feat_eng = spark.read.parquet(output_dir)\n",
    "del df\n",
    "df_feat_eng.show()"
   ]
  },
  {
   "cell_type": "code",
   "execution_count": 11,
   "id": "2d767d87",
   "metadata": {},
   "outputs": [
    {
     "data": {
      "text/plain": [
       "[('ts', 'double'),\n",
       " ('uid', 'string'),\n",
       " ('source_ip', 'string'),\n",
       " ('source_port', 'double'),\n",
       " ('dest_ip', 'string'),\n",
       " ('dest_port', 'double'),\n",
       " ('proto', 'string'),\n",
       " ('service', 'string'),\n",
       " ('duration', 'double'),\n",
       " ('orig_bytes', 'double'),\n",
       " ('resp_bytes', 'double'),\n",
       " ('conn_state', 'string'),\n",
       " ('history', 'string'),\n",
       " ('orig_pkts', 'double'),\n",
       " ('orig_ip_bytes', 'double'),\n",
       " ('resp_pkts', 'double'),\n",
       " ('resp_ip_bytes', 'double'),\n",
       " ('label', 'string'),\n",
       " ('detailed-label', 'string'),\n",
       " ('dt', 'timestamp'),\n",
       " ('hour', 'timestamp'),\n",
       " ('minute', 'timestamp'),\n",
       " ('second', 'timestamp'),\n",
       " ('is_bad', 'int'),\n",
       " ('source_ip_count_last_5m', 'bigint'),\n",
       " ('source_ip_count_last_30m', 'bigint'),\n",
       " ('source_port_count_last_5m', 'bigint'),\n",
       " ('source_port_count_last_30m', 'bigint'),\n",
       " ('dest_ip_count_last_5m', 'bigint'),\n",
       " ('dest_ip_count_last_30m', 'bigint'),\n",
       " ('dest_port_count_last_5m', 'bigint'),\n",
       " ('dest_port_count_last_30m', 'bigint'),\n",
       " ('source_ip_avg_pkts_last_5m', 'double'),\n",
       " ('source_ip_avg_pkts_last_30m', 'double'),\n",
       " ('source_ip_avg_bytes_last_5m', 'double'),\n",
       " ('day', 'date')]"
      ]
     },
     "execution_count": 11,
     "metadata": {},
     "output_type": "execute_result"
    }
   ],
   "source": [
    "df_feat_eng.dtypes"
   ]
  },
  {
   "cell_type": "code",
   "execution_count": 12,
   "id": "840b20d7",
   "metadata": {},
   "outputs": [
    {
     "name": "stdout",
     "output_type": "stream",
     "text": [
      "['source_port', 'duration', 'orig_bytes', 'resp_bytes', 'orig_pkts', 'orig_ip_bytes', 'resp_pkts', 'resp_ip_bytes', 'source_ip_count_last_5m', 'source_ip_count_last_30m', 'source_port_count_last_5m', 'source_port_count_last_30m', 'dest_ip_count_last_5m', 'dest_ip_count_last_30m', 'dest_port_count_last_5m', 'dest_port_count_last_30m', 'source_ip_avg_pkts_last_5m', 'source_ip_avg_pkts_last_30m', 'source_ip_avg_bytes_last_5m'] ['uid', 'source_ip', 'dest_ip', 'proto', 'service', 'conn_state', 'history', 'label', 'detailed-label']\n"
     ]
    }
   ],
   "source": [
    "# Selecting the numerical and categorical feature names\n",
    "numerical_cols = []\n",
    "categorical_cols = []\n",
    "for col, dtype in df_feat_eng.dtypes:\n",
    "    if col in ['ts','spurce_port','dest_port','is_bad']:\n",
    "        continue\n",
    "    if dtype in ['int', 'bigint', 'float', 'double', 'decimal']:\n",
    "        numerical_cols.append(col)\n",
    "    elif dtype == 'string':\n",
    "        categorical_cols.append(col)\n",
    "print(numerical_cols, categorical_cols)"
   ]
  },
  {
   "cell_type": "code",
   "execution_count": 13,
   "id": "a459d80a",
   "metadata": {},
   "outputs": [
    {
     "name": "stdout",
     "output_type": "stream",
     "text": [
      "+-------------------+-------------------------+-----------------------+---------------------+-----------------------+--------------------------+-----------------------+---------------------+------------------------------+\n",
      "|count(DISTINCT uid)|count(DISTINCT source_ip)|count(DISTINCT dest_ip)|count(DISTINCT proto)|count(DISTINCT service)|count(DISTINCT conn_state)|count(DISTINCT history)|count(DISTINCT label)|count(DISTINCT detailed-label)|\n",
      "+-------------------+-------------------------+-----------------------+---------------------+-----------------------+--------------------------+-----------------------+---------------------+------------------------------+\n",
      "|            1008748|                    15004|                 597107|                    3|                      5|                        11|                    126|                    2|                             2|\n",
      "+-------------------+-------------------------+-----------------------+---------------------+-----------------------+--------------------------+-----------------------+---------------------+------------------------------+\n",
      "\n"
     ]
    }
   ],
   "source": [
    "# Lets see what features have a small amount of unique values, because we don't want to process one-hot encode really long unique values\n",
    "df_feat_eng.select([F.count_distinct(col) for col in categorical_cols]).show()"
   ]
  },
  {
   "cell_type": "code",
   "execution_count": 14,
   "id": "fbe8e430",
   "metadata": {},
   "outputs": [],
   "source": [
    "# Lets apply some innitial filering:\n",
    "categorical_cols_to_drop = ['uid','source_ip','dest_ip','label', 'detailed-label']\n",
    "categorical_cols = [col for col in categorical_cols if col not in categorical_cols_to_drop]"
   ]
  },
  {
   "cell_type": "code",
   "execution_count": 15,
   "id": "cc88d732",
   "metadata": {},
   "outputs": [],
   "source": [
    "# Maybe we can reduce the number of unique values in each feature by filtering out the least frequent ones:\n",
    "categorical_valid_values = {}\n",
    "for col in categorical_cols:\n",
    "    # Save all the classes that appear more than 100 times\n",
    "    categorical_valid_values[col] = (\n",
    "        df_feat_eng.groupby(col)\n",
    "        .count()\n",
    "        .filter(F.col(\"count\") > 100)\n",
    "        .select(col)\n",
    "        .toPandas()\n",
    "        .values.ravel()\n",
    "    )\n",
    "    \n",
    "    # Transform all the classes that are NOT in the previous saved classes, to the class: 'Other'\n",
    "    df_feat_eng = df_feat_eng.withColumn(\n",
    "        col,\n",
    "        F.when(F.col(col).isin(list(categorical_valid_values[col])), F.col(col)).otherwise(\n",
    "            F.lit(\"Other\").alias(col)\n",
    "        )\n",
    "    )"
   ]
  },
  {
   "cell_type": "code",
   "execution_count": 16,
   "id": "e1400121",
   "metadata": {},
   "outputs": [
    {
     "name": "stdout",
     "output_type": "stream",
     "text": [
      "+---------------------+-----------------------+--------------------------+-----------------------+\n",
      "|count(DISTINCT proto)|count(DISTINCT service)|count(DISTINCT conn_state)|count(DISTINCT history)|\n",
      "+---------------------+-----------------------+--------------------------+-----------------------+\n",
      "|                    3|                      3|                         7|                     22|\n",
      "+---------------------+-----------------------+--------------------------+-----------------------+\n",
      "\n"
     ]
    }
   ],
   "source": [
    "# Read again the count of classes in each feature, to see the effect of the previous transformation\n",
    "df_feat_eng.select([F.count_distinct(col) for col in categorical_cols]).show()"
   ]
  },
  {
   "cell_type": "markdown",
   "id": "82db1e5d",
   "metadata": {},
   "source": [
    "## Train-Test Split\n",
    "We could do something like: df.randomSplit() But we want to need to split it by source IP adress to avoid data leakage"
   ]
  },
  {
   "cell_type": "code",
   "execution_count": 17,
   "id": "5bf2f873",
   "metadata": {},
   "outputs": [
    {
     "name": "stdout",
     "output_type": "stream",
     "text": [
      "+---------------+-------+\n",
      "|      source_ip|bad_sum|\n",
      "+---------------+-------+\n",
      "|192.168.100.103| 539473|\n",
      "|  219.250.49.64|      0|\n",
      "|109.239.172.131|      0|\n",
      "| 119.67.116.218|      0|\n",
      "| 27.158.202.208|      0|\n",
      "+---------------+-------+\n",
      "only showing top 5 rows\n"
     ]
    }
   ],
   "source": [
    "# Lets see the counts of malicious data for every source_ip in descending order\n",
    "df_feat_eng.groupby(\"source_ip\").agg(F.sum(F.col(\"is_bad\")).alias(\"bad_sum\")).orderBy(\"bad_sum\", ascending=False).show(5)"
   ]
  },
  {
   "cell_type": "code",
   "execution_count": 18,
   "id": "b8721662",
   "metadata": {},
   "outputs": [],
   "source": [
    "# Training non-malicious IPs on 80%\n",
    "train_ips = (\n",
    "    df_feat_eng.where(\n",
    "        ~F.col('source_ip').isin(['192.168.100.103'])\n",
    "    )\n",
    "    .select(F.col('source_ip'), F.lit(1).alias(\"is_train\"))\n",
    "    .dropDuplicates()\n",
    "    .sample(0.8)\n",
    ")\n",
    "\n",
    "df_feat_eng = df_feat_eng.join(train_ips, on=\"source_ip\", how=\"left\")"
   ]
  },
  {
   "cell_type": "code",
   "execution_count": 19,
   "id": "ae9251ca",
   "metadata": {},
   "outputs": [],
   "source": [
    "# We need to create the training and testing dataframes. We only have malicious data on the Source IP 192.168.100.103 (apparently)\n",
    "# How can we separate the train and test dataframes so that both have an equal balance of malicious and non-malicious classes?\n",
    "# We have to ensure we avoid data leakage by placing the same ip_address on both training and testing dataframes"
   ]
  },
  {
   "cell_type": "code",
   "execution_count": 20,
   "id": "e5a164f7",
   "metadata": {},
   "outputs": [
    {
     "name": "stdout",
     "output_type": "stream",
     "text": [
      "Training Data Distribution:\n",
      "+---------+------+\n",
      "|    label| count|\n",
      "+---------+------+\n",
      "|Malicious|431813|\n",
      "|   Benign|375618|\n",
      "+---------+------+\n",
      "\n",
      "Testing Data Distribution:\n",
      "+---------+------+\n",
      "|    label| count|\n",
      "+---------+------+\n",
      "|Malicious|107660|\n",
      "|   Benign| 93657|\n",
      "+---------+------+\n",
      "\n"
     ]
    }
   ],
   "source": [
    "malicious_ip_df = df_feat_eng.where(F.col(\"source_ip\") == '192.168.100.103')\n",
    "benign_ip_df = df_feat_eng.where(F.col(\"source_ip\") != '192.168.100.103')\n",
    "\n",
    "# Now split each df 20/80 for test/train\n",
    "malicious_train_df, malicious_test_df = malicious_ip_df.randomSplit([0.8, 0.2], seed=42)\n",
    "benign_train_df, benign_test_df = benign_ip_df.randomSplit([0.8, 0.2], seed=42)\n",
    "\n",
    "# Now join the \n",
    "train_df = malicious_train_df.unionByName(benign_train_df)\n",
    "test_df = malicious_test_df.unionByName(benign_test_df)\n",
    "\n",
    "print(\"Training Data Distribution:\")\n",
    "train_df.groupBy('label').count().show()\n",
    "\n",
    "print(\"Testing Data Distribution:\")\n",
    "test_df.groupBy('label').count().show()"
   ]
  },
  {
   "cell_type": "markdown",
   "id": "42bd2615",
   "metadata": {},
   "source": [
    "## Machine Learning Pipeline"
   ]
  },
  {
   "cell_type": "code",
   "execution_count": 21,
   "id": "d53946ae",
   "metadata": {},
   "outputs": [],
   "source": [
    "from pyspark.ml.feature import StringIndexer, VectorAssembler\n",
    "from pyspark.ml import Pipeline\n",
    "from pyspark.ml.classification import RandomForestClassifier"
   ]
  },
  {
   "cell_type": "code",
   "execution_count": 22,
   "id": "0179620b",
   "metadata": {},
   "outputs": [],
   "source": [
    "categorical_cols_indexed = [col + '_index' for col in categorical_cols]\n",
    "input_features = numerical_cols + categorical_cols_indexed\n",
    "\n",
    "# Label encode for the categorical features\n",
    "ind = StringIndexer(inputCols=categorical_cols, outputCols=categorical_cols_indexed, handleInvalid='skip')\n",
    "# Spark operates ML on vectors. VectorAssemblers transforms all features into vectors for the ML engine\n",
    "va = VectorAssembler(inputCols=input_features, outputCol='features', handleInvalid='skip')\n",
    "# Just a Random Forest Classifier\n",
    "rf = RandomForestClassifier(featuresCol='features', labelCol='is_bad', numTrees=100)\n",
    "\n",
    "pipeline = Pipeline(stages=[ind, va, rf])"
   ]
  },
  {
   "cell_type": "code",
   "execution_count": 23,
   "id": "fc4e51d5",
   "metadata": {},
   "outputs": [],
   "source": [
    "pipeline = pipeline.fit(train_df)\n",
    "test_preds = pipeline.transform(test_df)"
   ]
  },
  {
   "cell_type": "code",
   "execution_count": 24,
   "id": "9e645d19",
   "metadata": {},
   "outputs": [
    {
     "name": "stdout",
     "output_type": "stream",
     "text": [
      "ROC AUC 0.9999976674519848\n",
      "PR AUC 0.9999983822848577\n"
     ]
    }
   ],
   "source": [
    "from pyspark.ml.evaluation import BinaryClassificationEvaluator\n",
    "\n",
    "roc = BinaryClassificationEvaluator(labelCol='is_bad', metricName='areaUnderROC')\n",
    "print('ROC AUC', roc.evaluate(test_preds))\n",
    "\n",
    "pr = BinaryClassificationEvaluator(labelCol='is_bad', metricName='areaUnderPR')\n",
    "print('PR AUC', pr.evaluate(test_preds))"
   ]
  },
  {
   "cell_type": "code",
   "execution_count": 35,
   "id": "f360c253",
   "metadata": {},
   "outputs": [
    {
     "data": {
      "image/png": "[encoded data removed]",
      "text/plain": [
       "<Figure size 1200x600 with 1 Axes>"
      ]
     },
     "metadata": {},
     "output_type": "display_data"
    }
   ],
   "source": [
    "import pandas as pd\n",
    "from matplotlib import pyplot as plt\n",
    "import seaborn as sns\n",
    "\n",
    "df_feature_importance = pd.DataFrame(\n",
    "    {\n",
    "        'Importance' : pipeline.stages[-1].featureImportances.values,\n",
    "        'Features' : pipeline.stages[-2].getInputCols(),\n",
    "    }\n",
    ").sort_values(\"Importance\", ascending=False)\n",
    "\n",
    "plt.figure(figsize=(12,6))\n",
    "sns.barplot(data=df_feature_importance,\n",
    "            x='Features',\n",
    "            y='Importance')\n",
    "plt.title('Random Forest: Feature Importance')\n",
    "plt.xticks(rotation=90)\n",
    "plt.show()"
   ]
  },
  {
   "cell_type": "code",
   "execution_count": null,
   "id": "90726034",
   "metadata": {},
   "outputs": [
    {
     "name": "stdout",
     "output_type": "stream",
     "text": [
      "+------+----------------------------+\n",
      "|is_bad|avg(dest_port_count_last_5m)|\n",
      "+------+----------------------------+\n",
      "|     1|          142.34379696766888|\n",
      "|     0|         0.45565973941610893|\n",
      "+------+----------------------------+\n",
      "\n",
      "+------+----------------------------+\n",
      "|is_bad|avg(dest_port_count_last_5m)|\n",
      "+------+----------------------------+\n",
      "|     1|           142.7863366152703|\n",
      "|     0|          0.4497368055777998|\n",
      "+------+----------------------------+\n",
      "\n"
     ]
    }
   ],
   "source": [
    "# Lets see the distribution for the most important feature. We can see its average value in both dataframes is similar for malicious and benign records\n",
    "train_df.groupby('is_bad').agg(F.avg('dest_port_count_last_5m')).show()\n",
    "test_df.groupby('is_bad').agg(F.avg('dest_port_count_last_5m')).show()"
   ]
  }
 ],
 "metadata": {
  "kernelspec": {
   "display_name": "Python 3",
   "language": "python",
   "name": "python3"
  },
  "language_info": {
   "codemirror_mode": {
    "name": "ipython",
    "version": 3
   },
   "file_extension": ".py",
   "mimetype": "text/x-python",
   "name": "python",
   "nbconvert_exporter": "python",
   "pygments_lexer": "ipython3",
   "version": "3.12.2"
  }
 },
 "nbformat": 4,
 "nbformat_minor": 5
}
