{
 "cells": [
  {
   "cell_type": "markdown",
   "id": "056bacd8",
   "metadata": {},
   "source": [
    "## Feature Engineering with PySpark.\n",
    "This tutorial uses the output files generated in the EDA script\n",
    "\n",
    "The code is copied from the video: https://www.youtube.com/watch?v=TlXqsL4ysB0&t=178s"
   ]
  },
  {
   "cell_type": "code",
   "execution_count": 1,
   "id": "f4a55322",
   "metadata": {},
   "outputs": [],
   "source": [
    "from pyspark.sql import SparkSession, Window\n",
    "from pyspark.sql import functions as F\n",
    "from pyspark.ml.feature import StringIndexer, VectorAssembler\n",
    "from pyspark.ml import Pipeline\n",
    "from pyspark.ml.classification import RandomForestClassifier"
   ]
  },
  {
   "cell_type": "code",
   "execution_count": 2,
   "id": "36e38c41",
   "metadata": {},
   "outputs": [],
   "source": [
    "spark = (\n",
    "    SparkSession.builder.appName(\"iot\")\n",
    "    .master(\"local[*]\")\n",
    "    .config(\"spark.driver.host\", \"localhost\")\n",
    "    .config(\"spark.driver.bindAddress\", \"127.0.0.1\")\n",
    "    .config(\"spark.driver.memory\", \"4g\")\n",
    "    .getOrCreate()\n",
    ")\n",
    "spark.sparkContext.setLogLevel(\"ERROR\")"
   ]
  },
  {
   "cell_type": "code",
   "execution_count": 3,
   "id": "a0a867c3",
   "metadata": {},
   "outputs": [
    {
     "name": "stdout",
     "output_type": "stream",
     "text": [
      "+-------------------+------------------+---------------+-----------+---------------+---------+-----+-------+---------+----------+----------+----------+--------+---------+-------------+---------+-------------+---------+--------------------+-------------------+-------------------+-------------------+-------------------+----------+\n",
      "|                 ts|               uid|      source_ip|source_port|        dest_ip|dest_port|proto|service| duration|orig_bytes|resp_bytes|conn_state| history|orig_pkts|orig_ip_bytes|resp_pkts|resp_ip_bytes|    label|      detailed-label|                 dt|               hour|             minute|             second|       day|\n",
      "+-------------------+------------------+---------------+-----------+---------------+---------+-----+-------+---------+----------+----------+----------+--------+---------+-------------+---------+-------------+---------+--------------------+-------------------+-------------------+-------------------+-------------------+----------+\n",
      "|1.526102224013266E9|CaVnR41pPTET5wSto8|192.168.100.103|    43763.0| 173.136.140.39|  23323.0|  udp|missing|-999999.0| -999999.0| -999999.0|        S0|       D|      1.0|         40.0|      0.0|          0.0|   Benign|                NULL|2018-05-12 07:17:04|2018-05-12 07:00:00|2018-05-12 07:17:00|2018-05-12 07:17:04|2018-05-12|\n",
      "|1.526102267027935E9|C4aWHy3oDYP65myAGk|192.168.100.103|    33696.0|   70.45.29.240|     23.0|  tcp|missing|12.692249|      64.0|     167.0|        SF|ShAdDafF|     28.0|       1528.0|     26.0|       1527.0|Malicious|PartOfAHorizontal...|2018-05-12 07:17:47|2018-05-12 07:00:00|2018-05-12 07:17:00|2018-05-12 07:17:47|2018-05-12|\n",
      "|1.526102225013444E9|CMT4Pe1E9tBd8SIZF7|192.168.100.103|    43763.0| 48.120.150.171|  19344.0|  udp|missing|-999999.0| -999999.0| -999999.0|        S0|       D|      1.0|         40.0|      0.0|          0.0|   Benign|                NULL|2018-05-12 07:17:05|2018-05-12 07:00:00|2018-05-12 07:17:00|2018-05-12 07:17:05|2018-05-12|\n",
      "|1.526102281003452E9| CInChlPA6i2k6p9d9|192.168.100.103|    47545.0|   18.151.90.93|     23.0|  tcp|missing| 2.999287|       0.0|       0.0|        S0|       S|      3.0|        180.0|      0.0|          0.0|Malicious|PartOfAHorizontal...|2018-05-12 07:18:01|2018-05-12 07:00:00|2018-05-12 07:18:00|2018-05-12 07:18:01|2018-05-12|\n",
      "|1.526102226013123E9|COiUUU3fDXLEcIaYB1|192.168.100.103|    43763.0|   118.36.16.36|  30715.0|  udp|missing|-999999.0| -999999.0| -999999.0|        S0|       D|      1.0|         40.0|      0.0|          0.0|   Benign|                NULL|2018-05-12 07:17:06|2018-05-12 07:00:00|2018-05-12 07:17:00|2018-05-12 07:17:06|2018-05-12|\n",
      "|1.526102281022691E9|CMzEJP3wUsHvQ7ixw6|192.168.100.103|    45937.0|  70.14.226.126|  46146.0|  tcp|missing|-999999.0| -999999.0| -999999.0|        S0|       S|      1.0|         60.0|      0.0|          0.0|   Benign|                NULL|2018-05-12 07:18:01|2018-05-12 07:00:00|2018-05-12 07:18:00|2018-05-12 07:18:01|2018-05-12|\n",
      "|1.526102281042932E9|CyXUzl33uwk7Gb3BL3|192.168.100.103|    58654.0| 73.131.190.251|     23.0|  tcp|missing|-999999.0| -999999.0| -999999.0|        S0|       S|      1.0|         60.0|      0.0|          0.0|Malicious|PartOfAHorizontal...|2018-05-12 07:18:01|2018-05-12 07:00:00|2018-05-12 07:18:00|2018-05-12 07:18:01|2018-05-12|\n",
      "|  1.5261022263152E9|CQLJ0t4YAKtQS93BH6|   118.36.16.36|        3.0|192.168.100.103|      3.0| icmp|missing|-999999.0| -999999.0| -999999.0|       OTH| missing|      1.0|         68.0|      0.0|          0.0|   Benign|                NULL|2018-05-12 07:17:06|2018-05-12 07:00:00|2018-05-12 07:17:00|2018-05-12 07:17:06|2018-05-12|\n",
      "| 1.52610222701355E9| CMO5eu1LUoR1sXbi3|192.168.100.103|    43763.0|   7.29.188.169|  54068.0|  udp|missing|-999999.0| -999999.0| -999999.0|        S0|       D|      1.0|         40.0|      0.0|          0.0|   Benign|                NULL|2018-05-12 07:17:07|2018-05-12 07:00:00|2018-05-12 07:17:00|2018-05-12 07:17:07|2018-05-12|\n",
      "|1.526102282022868E9| Cgry4UjuEvLD0N231|192.168.100.103|    36989.0|  27.52.122.232|     23.0|  tcp|missing|-999999.0| -999999.0| -999999.0|        S0|       S|      1.0|         60.0|      0.0|          0.0|Malicious|PartOfAHorizontal...|2018-05-12 07:18:02|2018-05-12 07:00:00|2018-05-12 07:18:00|2018-05-12 07:18:02|2018-05-12|\n",
      "|1.526102283012805E9|CdX7Ho2z716ZU3INe9|192.168.100.103|    33230.0|152.253.104.225|     23.0|  tcp|missing|-999999.0| -999999.0| -999999.0|        S0|       S|      1.0|         60.0|      0.0|          0.0|Malicious|PartOfAHorizontal...|2018-05-12 07:18:03|2018-05-12 07:00:00|2018-05-12 07:18:00|2018-05-12 07:18:03|2018-05-12|\n",
      "|1.526102228012982E9| CFXoUfhdStfJOoOy2|192.168.100.103|    43763.0|125.218.111.159|  44705.0|  udp|missing|-999999.0| -999999.0| -999999.0|        S0|       D|      1.0|         40.0|      0.0|          0.0|   Benign|                NULL|2018-05-12 07:17:08|2018-05-12 07:00:00|2018-05-12 07:17:00|2018-05-12 07:17:08|2018-05-12|\n",
      "|1.526102284003986E9|Ca6UVh2AT2A4Lar7ii|192.168.100.103|    47072.0|   98.23.41.253|   8080.0|  tcp|missing| 2.998811|       0.0|       0.0|        S0|       S|      3.0|        180.0|      0.0|          0.0|Malicious|PartOfAHorizontal...|2018-05-12 07:18:04|2018-05-12 07:00:00|2018-05-12 07:18:00|2018-05-12 07:18:04|2018-05-12|\n",
      "|1.526102229013156E9| Cj7N6m8Qe0yhrQwDh|192.168.100.103|    43763.0|  54.131.249.82|   5887.0|  udp|missing|-999999.0| -999999.0| -999999.0|        S0|       D|      1.0|         40.0|      0.0|          0.0|   Benign|                NULL|2018-05-12 07:17:09|2018-05-12 07:00:00|2018-05-12 07:17:00|2018-05-12 07:17:09|2018-05-12|\n",
      "|1.526102285003916E9|Cpz9Az1xqZ48bh7Pf5|192.168.100.103|    41516.0| 175.36.178.174|     23.0|  tcp|missing| 2.998786|       0.0|       0.0|        S0|       S|      3.0|        180.0|      0.0|          0.0|Malicious|PartOfAHorizontal...|2018-05-12 07:18:05|2018-05-12 07:00:00|2018-05-12 07:18:00|2018-05-12 07:18:05|2018-05-12|\n",
      "|1.526102230013338E9|CiBUIG19lk4bRmM27a|192.168.100.103|    43763.0|   102.37.28.71|  49542.0|  udp|missing|-999999.0| -999999.0| -999999.0|        S0|       D|      1.0|         40.0|      0.0|          0.0|   Benign|                NULL|2018-05-12 07:17:10|2018-05-12 07:00:00|2018-05-12 07:17:00|2018-05-12 07:17:10|2018-05-12|\n",
      "|1.526102231013516E9|CNOvBT1IzG6uqHCTob|192.168.100.103|    43763.0|   117.51.29.26|  20126.0|  udp|missing|-999999.0| -999999.0| -999999.0|        S0|       D|      1.0|         40.0|      0.0|          0.0|   Benign|                NULL|2018-05-12 07:17:11|2018-05-12 07:00:00|2018-05-12 07:17:00|2018-05-12 07:17:11|2018-05-12|\n",
      "|1.526102286042824E9| CGCF5ng41qC5RsT2c|192.168.100.103|    53630.0| 14.164.248.166|     23.0|  tcp|missing|-999999.0| -999999.0| -999999.0|        S0|       S|      1.0|         60.0|      0.0|          0.0|Malicious|PartOfAHorizontal...|2018-05-12 07:18:06|2018-05-12 07:00:00|2018-05-12 07:18:00|2018-05-12 07:18:06|2018-05-12|\n",
      "|1.526102287003773E9|CybANS3ZhF8HqVL0aa|192.168.100.103|    44673.0|   133.113.6.78|     23.0|  tcp|missing|  2.99904|       0.0|       0.0|        S0|       S|      3.0|        180.0|      0.0|          0.0|Malicious|PartOfAHorizontal...|2018-05-12 07:18:07|2018-05-12 07:00:00|2018-05-12 07:18:00|2018-05-12 07:18:07|2018-05-12|\n",
      "|1.526102232013195E9|CGXGjH1O26sul8pJB2|192.168.100.103|    43763.0|   193.20.31.19|  50404.0|  udp|missing|-999999.0| -999999.0| -999999.0|        S0|       D|      1.0|         40.0|      0.0|          0.0|   Benign|                NULL|2018-05-12 07:17:12|2018-05-12 07:00:00|2018-05-12 07:17:00|2018-05-12 07:17:12|2018-05-12|\n",
      "+-------------------+------------------+---------------+-----------+---------------+---------+-----+-------+---------+----------+----------+----------+--------+---------+-------------+---------+-------------+---------+--------------------+-------------------+-------------------+-------------------+-------------------+----------+\n",
      "only showing top 20 rows\n"
     ]
    }
   ],
   "source": [
    "output_dir = r\"C:\\Users\\gabyl\\spark_outputs\\preprocessing\"\n",
    "\n",
    "df = spark.read.parquet(output_dir)\n",
    "df.show()"
   ]
  },
  {
   "cell_type": "code",
   "execution_count": 4,
   "id": "5f069569",
   "metadata": {},
   "outputs": [],
   "source": [
    "df = df.withColumn(\"is_bad\", F.when(F.col(\"label\") != \"Benign\", 1).otherwise(0))"
   ]
  },
  {
   "cell_type": "markdown",
   "id": "1c292577",
   "metadata": {},
   "source": [
    "## Feature Engineering\n",
    "Let's add some time-series features"
   ]
  },
  {
   "cell_type": "code",
   "execution_count": 5,
   "id": "91edb148",
   "metadata": {},
   "outputs": [
    {
     "name": "stdout",
     "output_type": "stream",
     "text": [
      "+-------------------+------------------+---------------+-----------+---------------+---------+-----+-------+---------+----------+----------+----------+-------+---------+-------------+---------+-------------+------+--------------+-------------------+-------------------+-------------------+-------------------+----------+------+----------------------+\n",
      "|                 ts|               uid|      source_ip|source_port|        dest_ip|dest_port|proto|service| duration|orig_bytes|resp_bytes|conn_state|history|orig_pkts|orig_ip_bytes|resp_pkts|resp_ip_bytes| label|detailed-label|                 dt|               hour|             minute|             second|       day|is_bad|activity_count_last_5m|\n",
      "+-------------------+------------------+---------------+-----------+---------------+---------+-----+-------+---------+----------+----------+----------+-------+---------+-------------+---------+-------------+------+--------------+-------------------+-------------------+-------------------+-------------------+----------+------+----------------------+\n",
      "|1.525894550624578E9|  CGYRAQZQujyUGfEd|    1.213.14.66|       11.0|192.168.100.103|      0.0| icmp|missing|-999999.0| -999999.0| -999999.0|       OTH|missing|      1.0|         68.0|      0.0|          0.0|Benign|          NULL|2018-05-09 21:35:50|2018-05-09 21:00:00|2018-05-09 21:35:00|2018-05-09 21:35:50|2018-05-09|     0|                     0|\n",
      "|1.525899102278261E9|CZIT0D3wOswcPK7nTe|  100.89.121.18|        3.0|192.168.100.103|      1.0| icmp|missing|-999999.0| -999999.0| -999999.0|       OTH|missing|      1.0|         68.0|      0.0|          0.0|Benign|          NULL|2018-05-09 22:51:42|2018-05-09 22:00:00|2018-05-09 22:51:00|2018-05-09 22:51:42|2018-05-09|     0|                     0|\n",
      "|1.526088016534446E9|CJI3b64aCFqfynb6Xe|101.111.252.234|        3.0|192.168.100.103|      1.0| icmp|missing|-999999.0| -999999.0| -999999.0|       OTH|missing|      1.0|         56.0|      0.0|          0.0|Benign|          NULL|2018-05-12 03:20:16|2018-05-12 03:00:00|2018-05-12 03:20:00|2018-05-12 03:20:16|2018-05-12|     0|                     0|\n",
      "|1.526116964713856E9|CMw7Wa3GQbawaCZuLk| 101.170.74.247|        3.0|192.168.100.103|      3.0| icmp|missing|-999999.0| -999999.0| -999999.0|       OTH|missing|      1.0|         68.0|      0.0|          0.0|Benign|          NULL|2018-05-12 11:22:44|2018-05-12 11:00:00|2018-05-12 11:22:00|2018-05-12 11:22:44|2018-05-12|     0|                     0|\n",
      "|1.525988896342085E9|CPtUQJ1WBOJE2QgeMg|    101.30.20.8|        3.0|192.168.100.103|      3.0| icmp|missing|-999999.0| -999999.0| -999999.0|       OTH|missing|      1.0|         56.0|      0.0|          0.0|Benign|          NULL|2018-05-10 23:48:16|2018-05-10 23:00:00|2018-05-10 23:48:00|2018-05-10 23:48:16|2018-05-10|     0|                     0|\n",
      "|1.525980354351651E9|CgCnrd2QtZrgeh3uxb|  101.66.253.74|        3.0|192.168.100.103|      3.0| icmp|missing|-999999.0| -999999.0| -999999.0|       OTH|missing|      1.0|         68.0|      0.0|          0.0|Benign|          NULL|2018-05-10 21:25:54|2018-05-10 21:00:00|2018-05-10 21:25:00|2018-05-10 21:25:54|2018-05-10|     0|                     0|\n",
      "|1.525885730839075E9| C7EwerTvAop6wWip2| 102.136.14.204|        3.0|192.168.100.103|      3.0| icmp|missing|-999999.0| -999999.0| -999999.0|       OTH|missing|      1.0|         68.0|      0.0|          0.0|Benign|          NULL|2018-05-09 19:08:50|2018-05-09 19:00:00|2018-05-09 19:08:00|2018-05-09 19:08:50|2018-05-09|     0|                     0|\n",
      "|1.526017224222815E9|CtNig92AzAR1EFJHN3|  102.249.61.11|        3.0|192.168.100.103|      3.0| icmp|missing|-999999.0| -999999.0| -999999.0|       OTH|missing|      1.0|         68.0|      0.0|          0.0|Benign|          NULL|2018-05-11 07:40:24|2018-05-11 07:00:00|2018-05-11 07:40:00|2018-05-11 07:40:24|2018-05-11|     0|                     0|\n",
      "|1.525946542337153E9|CR3iwj1ReDAJ62nCX9|     103.5.0.78|        3.0|192.168.100.103|      1.0| icmp|missing|-999999.0| -999999.0| -999999.0|       OTH|missing|      1.0|         68.0|      0.0|          0.0|Benign|          NULL|2018-05-10 12:02:22|2018-05-10 12:00:00|2018-05-10 12:02:00|2018-05-10 12:02:22|2018-05-10|     0|                     0|\n",
      "|1.525905837129879E9|Ct6Aub1Soy61Pr2fTa|104.144.236.217|        3.0|192.168.100.103|      3.0| icmp|missing|-999999.0| -999999.0| -999999.0|       OTH|missing|      1.0|         68.0|      0.0|          0.0|Benign|          NULL|2018-05-10 00:43:57|2018-05-10 00:00:00|2018-05-10 00:43:00|2018-05-10 00:43:57|2018-05-10|     0|                     0|\n",
      "|1.526040730169761E9| CBi8Tt1iSzUpo4ccb| 104.164.52.125|        3.0|192.168.100.103|      3.0| icmp|missing|-999999.0| -999999.0| -999999.0|       OTH|missing|      1.0|         68.0|      0.0|          0.0|Benign|          NULL|2018-05-11 14:12:10|2018-05-11 14:00:00|2018-05-11 14:12:00|2018-05-11 14:12:10|2018-05-11|     0|                     0|\n",
      "|1.526107141158498E9| CJginnOOLZS8Ajzdl| 104.217.187.27|        3.0|192.168.100.103|      3.0| icmp|missing|-999999.0| -999999.0| -999999.0|       OTH|missing|      1.0|         68.0|      0.0|          0.0|Benign|          NULL|2018-05-12 08:39:01|2018-05-12 08:00:00|2018-05-12 08:39:00|2018-05-12 08:39:01|2018-05-12|     0|                     0|\n",
      "| 1.52588120818464E9|CnRrid21SXtROF2Yf6|104.246.172.254|       11.0|192.168.100.103|      0.0| icmp|missing|-999999.0| -999999.0| -999999.0|       OTH|missing|      1.0|         96.0|      0.0|          0.0|Benign|          NULL|2018-05-09 17:53:28|2018-05-09 17:00:00|2018-05-09 17:53:00|2018-05-09 17:53:28|2018-05-09|     0|                     0|\n",
      "| 1.52601199616491E9|CN3N6k355KkmKeIB17| 107.183.203.32|        3.0|192.168.100.103|      3.0| icmp|missing|-999999.0| -999999.0| -999999.0|       OTH|missing|      1.0|         68.0|      0.0|          0.0|Benign|          NULL|2018-05-11 06:13:16|2018-05-11 06:00:00|2018-05-11 06:13:00|2018-05-11 06:13:16|2018-05-11|     0|                     0|\n",
      "| 1.52595088861826E9|Cwo4DO35pVmIs7w1bj|  108.110.214.5|        3.0|192.168.100.103|      3.0| icmp|missing|-999999.0| -999999.0| -999999.0|       OTH|missing|      1.0|         68.0|      0.0|          0.0|Benign|          NULL|2018-05-10 13:14:48|2018-05-10 13:00:00|2018-05-10 13:14:00|2018-05-10 13:14:48|2018-05-10|     0|                     0|\n",
      "| 1.52595933105584E9|CBx73J1Qx7Q7U7x0Ol|108.113.215.247|    34729.0|192.168.100.103|  33782.0|  tcp|missing|-999999.0| -999999.0| -999999.0|    RSTOS0|      R|      1.0|         40.0|      0.0|          0.0|Benign|          NULL|2018-05-10 15:35:31|2018-05-10 15:00:00|2018-05-10 15:35:00|2018-05-10 15:35:31|2018-05-10|     0|                     0|\n",
      "| 1.52592691707636E9|CU4hbi32SC4ETiRjj7|   108.61.2.206|        3.0|192.168.100.103|      1.0| icmp|missing|-999999.0| -999999.0| -999999.0|       OTH|missing|      1.0|         56.0|      0.0|          0.0|Benign|          NULL|2018-05-10 06:35:17|2018-05-10 06:00:00|2018-05-10 06:35:00|2018-05-10 06:35:17|2018-05-10|     0|                     0|\n",
      "|1.525953859508242E9|C5KViQ2YWw2YpCEkJk| 108.61.244.138|        3.0|192.168.100.103|      1.0| icmp|missing|-999999.0| -999999.0| -999999.0|       OTH|missing|      1.0|         56.0|      0.0|          0.0|Benign|          NULL|2018-05-10 14:04:19|2018-05-10 14:00:00|2018-05-10 14:04:00|2018-05-10 14:04:19|2018-05-10|     0|                     0|\n",
      "|1.525913065033541E9| CN0lN3ZAUES8cz126|109.239.172.131|        3.0|192.168.100.103|      3.0| icmp|missing|-999999.0| -999999.0| -999999.0|       OTH|missing|      1.0|         68.0|      0.0|          0.0|Benign|          NULL|2018-05-10 02:44:25|2018-05-10 02:00:00|2018-05-10 02:44:00|2018-05-10 02:44:25|2018-05-10|     0|                     0|\n",
      "|1.526019835273636E9|Cj5EZm1zlAXfu1SQRd| 110.13.248.234|        3.0|192.168.100.103|      3.0| icmp|missing|-999999.0| -999999.0| -999999.0|       OTH|missing|      1.0|         68.0|      0.0|          0.0|Benign|          NULL|2018-05-11 08:23:55|2018-05-11 08:00:00|2018-05-11 08:23:00|2018-05-11 08:23:55|2018-05-11|     0|                     0|\n",
      "+-------------------+------------------+---------------+-----------+---------------+---------+-----+-------+---------+----------+----------+----------+-------+---------+-------------+---------+-------------+------+--------------+-------------------+-------------------+-------------------+-------------------+----------+------+----------------------+\n",
      "only showing top 20 rows\n"
     ]
    }
   ],
   "source": [
    "# Example of rolling feature generation\n",
    "df.withColumn(\n",
    "    \"activity_count_last_5m\",\n",
    "    F.count('source_ip').over(Window().partitionBy('source_ip').orderBy(F.col('dt').cast('long')).rangeBetween(-5*60,-1))\n",
    ").show()"
   ]
  },
  {
   "cell_type": "code",
   "execution_count": 6,
   "id": "cd2f8540",
   "metadata": {},
   "outputs": [],
   "source": [
    "# Lets create some custom functions\n",
    "def create_custom_window(\n",
    "    partition_by: str,\n",
    "    timestamp_col: str,\n",
    "    window_in_minutes: int,\n",
    "):\n",
    "    window = (\n",
    "        Window()\n",
    "        .partitionBy(partition_by)\n",
    "        .orderBy(F.col(timestamp_col).cast('long'))\n",
    "        .rangeBetween(-window_in_minutes*60, -1)\n",
    "    )\n",
    "    \n",
    "    return window\n",
    "\n",
    "def generate_rolling_aggregate(\n",
    "    col: str,\n",
    "    partition_by: str = None,\n",
    "    operation: str = \"count\",\n",
    "    timestamp_col: str = \"dt\",\n",
    "    window_in_minutes: int = 1,\n",
    "):\n",
    "    if partition_by is None:\n",
    "        partition_by = col\n",
    "    \n",
    "    if operation == \"count\":\n",
    "        return F.count(col).over(\n",
    "            create_custom_window(\n",
    "                partition_by=partition_by,\n",
    "                timestamp_col=timestamp_col,\n",
    "                window_in_minutes=window_in_minutes\n",
    "            )\n",
    "        )\n",
    "    elif operation == \"sum\":\n",
    "        return F.sum(col).over(\n",
    "            create_custom_window(\n",
    "                partition_by=partition_by,\n",
    "                timestamp_col=timestamp_col,\n",
    "                window_in_minutes=window_in_minutes\n",
    "            )\n",
    "        )\n",
    "    elif operation == \"avg\":\n",
    "        return F.avg(col).over(\n",
    "            create_custom_window(\n",
    "                partition_by=partition_by,\n",
    "                timestamp_col=timestamp_col,\n",
    "                window_in_minutes=window_in_minutes\n",
    "            )\n",
    "        )\n",
    "    else:\n",
    "        raise ValueError(f\"Operation '{operation}' is not defined.\")"
   ]
  },
  {
   "cell_type": "code",
   "execution_count": 7,
   "id": "3709a59a",
   "metadata": {},
   "outputs": [],
   "source": [
    "# Now we apply the custom feature engineering to create several new features.\n",
    "# This cell won't take any time because it doesn't really apply to the dataframe. It just defines the calculations to take place.\n",
    "# We'de need to apply a df.show() for example for it to really compute\n",
    "df = df.withColumns({\n",
    "    \"source_ip_count_last_5m\" : generate_rolling_aggregate(col='source_ip', partition_by='source_ip', operation='count', window_in_minutes=5),\n",
    "    \"source_ip_count_last_30m\" : generate_rolling_aggregate(col='source_ip', partition_by='source_ip', operation='count', window_in_minutes=30),\n",
    "    \"source_port_count_last_5m\" : generate_rolling_aggregate(col='source_port', partition_by='source_port', operation='count', window_in_minutes=5),\n",
    "    \"source_port_count_last_30m\" : generate_rolling_aggregate(col='source_port', partition_by='source_port', operation='count', window_in_minutes=30),\n",
    "    \"dest_ip_count_last_5m\" : generate_rolling_aggregate(col='dest_ip', partition_by='dest_ip', operation='count', window_in_minutes=5),\n",
    "    \"dest_ip_count_last_30m\" : generate_rolling_aggregate(col='dest_ip', partition_by='dest_ip', operation='count', window_in_minutes=30),\n",
    "    \"dest_port_count_last_5m\" : generate_rolling_aggregate(col='dest_port', partition_by='dest_port', operation='count', window_in_minutes=5),\n",
    "    \"dest_port_count_last_30m\" : generate_rolling_aggregate(col='dest_port', partition_by='dest_port', operation='count', window_in_minutes=30),\n",
    "    \"source_ip_avg_pkts_last_5m\": generate_rolling_aggregate(col='orig_pkts', partition_by='source_ip', operation='avg', window_in_minutes=5),\n",
    "    \"source_ip_avg_pkts_last_30m\": generate_rolling_aggregate(col='orig_pkts', partition_by='source_ip', operation='avg', window_in_minutes=30),\n",
    "    \"source_ip_avg_bytes_last_5m\": generate_rolling_aggregate(col='orig_ip_bytes', partition_by='source_ip', operation='avg', window_in_minutes=5),\n",
    "    \"source_ip_avg_pkts_last_30m\": generate_rolling_aggregate(col='orig_ip_bytes', partition_by='source_ip', operation='avg', window_in_minutes=30),\n",
    "})"
   ]
  },
  {
   "cell_type": "code",
   "execution_count": 8,
   "id": "7f3f64dd",
   "metadata": {},
   "outputs": [],
   "source": [
    "output_dir_fe = r\"C:\\Users\\gabyl\\spark_outputs\\feature_engineering\"\n",
    "\n",
    "df.write.mode(\"overwrite\").partitionBy(\"day\").parquet(output_dir)"
   ]
  },
  {
   "cell_type": "code",
   "execution_count": 48,
   "id": "c7daca80",
   "metadata": {},
   "outputs": [
    {
     "ename": "NameError",
     "evalue": "name 'df' is not defined",
     "output_type": "error",
     "traceback": [
      "\u001b[31m---------------------------------------------------------------------------\u001b[39m",
      "\u001b[31mNameError\u001b[39m                                 Traceback (most recent call last)",
      "\u001b[36mCell\u001b[39m\u001b[36m \u001b[39m\u001b[32mIn[48]\u001b[39m\u001b[32m, line 2\u001b[39m\n\u001b[32m      1\u001b[39m df_feat_eng = spark.read.parquet(output_dir)\n\u001b[32m----> \u001b[39m\u001b[32m2\u001b[39m \u001b[38;5;28;01mdel\u001b[39;00m \u001b[43mdf\u001b[49m\n\u001b[32m      3\u001b[39m df_feat_eng.show()\n",
      "\u001b[31mNameError\u001b[39m: name 'df' is not defined"
     ]
    }
   ],
   "source": [
    "df_feat_eng = spark.read.parquet(output_dir)\n",
    "del df\n",
    "df_feat_eng.show()"
   ]
  },
  {
   "cell_type": "code",
   "execution_count": 49,
   "id": "2d767d87",
   "metadata": {},
   "outputs": [
    {
     "data": {
      "text/plain": [
       "[('ts', 'double'),\n",
       " ('uid', 'string'),\n",
       " ('source_ip', 'string'),\n",
       " ('source_port', 'double'),\n",
       " ('dest_ip', 'string'),\n",
       " ('dest_port', 'double'),\n",
       " ('proto', 'string'),\n",
       " ('service', 'string'),\n",
       " ('duration', 'double'),\n",
       " ('orig_bytes', 'double'),\n",
       " ('resp_bytes', 'double'),\n",
       " ('conn_state', 'string'),\n",
       " ('history', 'string'),\n",
       " ('orig_pkts', 'double'),\n",
       " ('orig_ip_bytes', 'double'),\n",
       " ('resp_pkts', 'double'),\n",
       " ('resp_ip_bytes', 'double'),\n",
       " ('label', 'string'),\n",
       " ('detailed-label', 'string'),\n",
       " ('dt', 'timestamp'),\n",
       " ('hour', 'timestamp'),\n",
       " ('minute', 'timestamp'),\n",
       " ('second', 'timestamp'),\n",
       " ('is_bad', 'int'),\n",
       " ('source_ip_count_last_5m', 'bigint'),\n",
       " ('source_ip_count_last_30m', 'bigint'),\n",
       " ('source_port_count_last_5m', 'bigint'),\n",
       " ('source_port_count_last_30m', 'bigint'),\n",
       " ('dest_ip_count_last_5m', 'bigint'),\n",
       " ('dest_ip_count_last_30m', 'bigint'),\n",
       " ('dest_port_count_last_5m', 'bigint'),\n",
       " ('dest_port_count_last_30m', 'bigint'),\n",
       " ('source_ip_avg_pkts_last_5m', 'double'),\n",
       " ('source_ip_avg_pkts_last_30m', 'double'),\n",
       " ('source_ip_avg_bytes_last_5m', 'double'),\n",
       " ('day', 'date')]"
      ]
     },
     "execution_count": 49,
     "metadata": {},
     "output_type": "execute_result"
    }
   ],
   "source": [
    "df_feat_eng.dtypes"
   ]
  },
  {
   "cell_type": "code",
   "execution_count": 50,
   "id": "840b20d7",
   "metadata": {},
   "outputs": [],
   "source": [
    "# Selecting the numerical and categorical feature names\n",
    "numerical_cols = []\n",
    "categorical_cols = []\n",
    "for col, dtype in df_feat_eng.dtypes:\n",
    "    if dtype in ['int', 'bigint', 'float', 'double', 'decimal']:\n",
    "        numerical_cols.append(col)\n",
    "    elif dtype == 'string':\n",
    "        categorical_cols.append(col)\n",
    "    "
   ]
  },
  {
   "cell_type": "code",
   "execution_count": 51,
   "id": "a459d80a",
   "metadata": {},
   "outputs": [
    {
     "name": "stdout",
     "output_type": "stream",
     "text": [
      "+-------------------+-------------------------+-----------------------+---------------------+-----------------------+--------------------------+-----------------------+---------------------+------------------------------+\n",
      "|count(DISTINCT uid)|count(DISTINCT source_ip)|count(DISTINCT dest_ip)|count(DISTINCT proto)|count(DISTINCT service)|count(DISTINCT conn_state)|count(DISTINCT history)|count(DISTINCT label)|count(DISTINCT detailed-label)|\n",
      "+-------------------+-------------------------+-----------------------+---------------------+-----------------------+--------------------------+-----------------------+---------------------+------------------------------+\n",
      "|            1008748|                    15004|                 597107|                    3|                      5|                        11|                    126|                    2|                             2|\n",
      "+-------------------+-------------------------+-----------------------+---------------------+-----------------------+--------------------------+-----------------------+---------------------+------------------------------+\n",
      "\n"
     ]
    }
   ],
   "source": [
    "# Lets see what features have a small amount of unique values, because we don't want to process one-hot encode really long unique values\n",
    "df_feat_eng.select([F.count_distinct(col) for col in categorical_cols]).show()"
   ]
  },
  {
   "cell_type": "code",
   "execution_count": null,
   "id": "fbe8e430",
   "metadata": {},
   "outputs": [],
   "source": [
    "# Lets apply some innitial filering:\n",
    "categorical_cols_to_drop = ['uid','source_ip','dest_ip','label', 'detailed-label']\n",
    "categorical_cols = [col for col in categorical_cols if col not in categorical_cols_to_drop]"
   ]
  },
  {
   "cell_type": "code",
   "execution_count": 54,
   "id": "cc88d732",
   "metadata": {},
   "outputs": [],
   "source": [
    "# Maybe we can reduce the number of unique values in each feature by filtering out the least frequent ones:\n",
    "categorical_valid_values = {}\n",
    "for col in categorical_cols:\n",
    "    # Save all the classes that appear more than 100 times\n",
    "    categorical_valid_values[col] = (\n",
    "        df_feat_eng.groupby(col)\n",
    "        .count()\n",
    "        .filter(F.col(\"count\") > 100)\n",
    "        .select(col)\n",
    "        .toPandas()\n",
    "        .values.ravel()\n",
    "    )\n",
    "    \n",
    "    # Transform all the classes that are NOT in the previous saved classes, to the class: 'Other'\n",
    "    df_feat_eng = df_feat_eng.withColumn(\n",
    "        col,\n",
    "        F.when(F.col(col).isin(list(categorical_valid_values[col])), F.col(col)).otherwise(\n",
    "            F.lit(\"Other\").alias(col)\n",
    "        )\n",
    "    )"
   ]
  },
  {
   "cell_type": "code",
   "execution_count": 55,
   "id": "e1400121",
   "metadata": {},
   "outputs": [
    {
     "name": "stdout",
     "output_type": "stream",
     "text": [
      "+---------------------+-----------------------+--------------------------+-----------------------+\n",
      "|count(DISTINCT proto)|count(DISTINCT service)|count(DISTINCT conn_state)|count(DISTINCT history)|\n",
      "+---------------------+-----------------------+--------------------------+-----------------------+\n",
      "|                    3|                      3|                         7|                     22|\n",
      "+---------------------+-----------------------+--------------------------+-----------------------+\n",
      "\n"
     ]
    }
   ],
   "source": [
    "# Read again the count of classes in each feature, to see the effect of the previous transformation\n",
    "df_feat_eng.select([F.count_distinct(col) for col in categorical_cols]).show()"
   ]
  },
  {
   "cell_type": "markdown",
   "id": "82db1e5d",
   "metadata": {},
   "source": [
    "## Train-Test Split\n",
    "We could do something like: df.randomSplit() But we want to need to split it by source IP adress to avoid data leakage"
   ]
  },
  {
   "cell_type": "code",
   "execution_count": null,
   "id": "5bf2f873",
   "metadata": {},
   "outputs": [
    {
     "name": "stdout",
     "output_type": "stream",
     "text": [
      "+---------------+-------+\n",
      "|      source_ip|bad_sum|\n",
      "+---------------+-------+\n",
      "|192.168.100.103| 539473|\n",
      "|  219.250.49.64|      0|\n",
      "|109.239.172.131|      0|\n",
      "| 119.67.116.218|      0|\n",
      "| 27.158.202.208|      0|\n",
      "+---------------+-------+\n",
      "only showing top 5 rows\n"
     ]
    }
   ],
   "source": [
    "# Lets see the counts of malicious data for every source_ip in descending order\n",
    "df_feat_eng.groupby(\"source_ip\").agg(F.sum(F.col(\"is_bad\")).alias(\"bad_sum\")).orderBy(\"bad_sum\", ascending=False).show(5)"
   ]
  },
  {
   "cell_type": "code",
   "execution_count": null,
   "id": "b8721662",
   "metadata": {},
   "outputs": [
    {
     "name": "stdout",
     "output_type": "stream",
     "text": [
      "+---------------+--------+\n",
      "|      source_ip|is_train|\n",
      "+---------------+--------+\n",
      "|  219.250.49.64|       1|\n",
      "| 183.216.15.199|       1|\n",
      "|  190.156.17.15|       1|\n",
      "|  189.162.19.47|       1|\n",
      "|  97.124.43.191|       1|\n",
      "| 197.46.229.113|       1|\n",
      "|211.177.163.234|       1|\n",
      "|  181.55.249.55|       1|\n",
      "|173.243.119.238|       1|\n",
      "|  59.127.248.68|       1|\n",
      "|176.178.163.243|       1|\n",
      "|154.202.106.183|       1|\n",
      "| 92.210.138.127|       1|\n",
      "|  91.186.56.243|       1|\n",
      "| 91.248.210.207|       1|\n",
      "|   2.203.249.61|       1|\n",
      "| 23.245.244.115|       1|\n",
      "|  95.230.57.222|       1|\n",
      "|  106.92.73.245|       1|\n",
      "|  88.22.220.215|       1|\n",
      "+---------------+--------+\n",
      "only showing top 20 rows\n"
     ]
    }
   ],
   "source": [
    "# Training non-malicious IPs on 80%\n",
    "train_ips = (\n",
    "    df_feat_eng.where(\n",
    "        ~F.col('source_ip').isin(['192.168.100.103'])\n",
    "    )\n",
    "    .select(F.col('source_ip'), F.lit(1).alias(\"is_train\"))\n",
    "    .dropDuplicates()\n",
    "    .sample(0.8)\n",
    ")\n",
    "\n",
    "df_feat_eng = df_feat_eng.join(train_ips, on=\"source_ip\", how=\"left\")"
   ]
  },
  {
   "cell_type": "code",
   "execution_count": null,
   "id": "ae9251ca",
   "metadata": {},
   "outputs": [],
   "source": [
    "# We need to create the training and testing dataframes. We only have malicious data on the Source IP 192.168.100.103 (apparently)\n",
    "# How can we separate the train and test dataframes so that both have an equal balance of malicious and non-malicious classes?\n",
    "# We have to ensure we avoid data leakage by placing the same ip_address on both training and testing dataframes"
   ]
  },
  {
   "cell_type": "code",
   "execution_count": 70,
   "id": "e5a164f7",
   "metadata": {},
   "outputs": [
    {
     "name": "stdout",
     "output_type": "stream",
     "text": [
      "Training Data Distribution:\n",
      "+---------+------+\n",
      "|    label| count|\n",
      "+---------+------+\n",
      "|Malicious|431605|\n",
      "|   Benign|375811|\n",
      "+---------+------+\n",
      "\n",
      "Testing Data Distribution:\n",
      "+---------+------+\n",
      "|    label| count|\n",
      "+---------+------+\n",
      "|Malicious|107868|\n",
      "|   Benign| 93464|\n",
      "+---------+------+\n",
      "\n"
     ]
    }
   ],
   "source": [
    "malicious_ip_df = df_feat_eng.where(F.col(\"source_ip\") == '192.168.100.103')\n",
    "benign_ip_df = df_feat_eng.where(F.col(\"source_ip\") != '192.168.100.103')\n",
    "\n",
    "# Now split each df 20/80 for test/train\n",
    "malicious_train_df, malicious_test_df = malicious_ip_df.randomSplit([0.8, 0.2], seed=42)\n",
    "benign_train_df, benign_test_df = benign_ip_df.randomSplit([0.8, 0.2], seed=42)\n",
    "\n",
    "# Now join the \n",
    "train_df = malicious_train_df.unionByName(benign_train_df)\n",
    "test_df = malicious_test_df.unionByName(benign_test_df)\n",
    "\n",
    "print(\"Training Data Distribution:\")\n",
    "train_df.groupBy('label').count().show()\n",
    "\n",
    "print(\"Testing Data Distribution:\")\n",
    "test_df.groupBy('label').count().show()"
   ]
  }
 ],
 "metadata": {
  "kernelspec": {
   "display_name": "Python 3",
   "language": "python",
   "name": "python3"
  },
  "language_info": {
   "codemirror_mode": {
    "name": "ipython",
    "version": 3
   },
   "file_extension": ".py",
   "mimetype": "text/x-python",
   "name": "python",
   "nbconvert_exporter": "python",
   "pygments_lexer": "ipython3",
   "version": "3.12.2"
  }
 },
 "nbformat": 4,
 "nbformat_minor": 5
}
